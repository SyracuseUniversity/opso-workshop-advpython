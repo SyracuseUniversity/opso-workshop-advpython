{
 "cells": [
  {
   "cell_type": "markdown",
   "metadata": {},
   "source": [
    "# NumPy Arrays"
   ]
  },
  {
   "cell_type": "markdown",
   "metadata": {},
   "source": [
    "Data manipulation in Python is nearly synonymous with NumPy array manipulation: even tools like Pandas are built around the NumPy array.\n",
    "Numpy arrays can be thought of as **mathematical vectors** and behave correspondingly; contrary to Python lists, which are a container that stores arbitrary objects.\n",
    "\n"
   ]
  },
  {
   "cell_type": "markdown",
   "metadata": {},
   "source": [
    "## NumPy Array Attributes"
   ]
  },
  {
   "cell_type": "markdown",
   "metadata": {},
   "source": [
    "First let's discuss some useful array attributes.\n",
    "We'll start by defining three random arrays, a one-dimensional, two-dimensional, and three-dimensional array.\n",
    "We'll use NumPy's random number generator, which we will *seed* with a set value in order to ensure that the same random arrays are generated each time this code is run.\n",
    "\n",
    "The old way is to set a global state, but this is \"bad practice\" and can lead to subtle bugs.\n",
    "The new way is to use a ``numpy.random.RandomState`` object, which can generate random numbers in a way that is isolated from the global state.\n",
    "\n",
    "(Correct random number generation is **hard**!)"
   ]
  },
  {
   "cell_type": "code",
   "metadata": {
    "collapsed": false,
    "jupyter": {
     "outputs_hidden": false
    },
    "ExecuteTime": {
     "end_time": "2024-12-12T01:06:15.822114Z",
     "start_time": "2024-12-12T01:06:15.816937Z"
    }
   },
   "source": [
    "import numpy as np\n",
    "\n",
    "np.random.seed(0)  # global seed for reproducibility\n",
    "rndgen = np.random.RandomState(42)\n",
    "\n",
    "x1 = rndgen.normal(0, 10, size=6)  # One-dimensional array\n",
    "x2 = rndgen.randint(10, size=(3, 4))  # Two-dimensional array\n",
    "x3 = np.random.normal(2, 3, size=(3, 4, 5))  # Three-dimensional array  # we can use numpy, but this relies on the global seed"
   ],
   "outputs": [],
   "execution_count": 2
  },
  {
   "cell_type": "markdown",
   "metadata": {},
   "source": [
    "Each array has attributes ``ndim`` (the number of dimensions), ``shape`` (the size of each dimension), and ``size`` (the total size of the array):"
   ]
  },
  {
   "cell_type": "code",
   "metadata": {
    "collapsed": false,
    "jupyter": {
     "outputs_hidden": false
    },
    "ExecuteTime": {
     "end_time": "2024-12-12T01:06:22.350221Z",
     "start_time": "2024-12-12T01:06:22.340585Z"
    }
   },
   "source": [
    "print(\"x3 ndim: \", x3.ndim)\n",
    "print(\"x3 shape:\", x3.shape)\n",
    "print(\"x3 size: \", x3.size)"
   ],
   "outputs": [
    {
     "name": "stdout",
     "output_type": "stream",
     "text": [
      "x3 ndim:  3\n",
      "x3 shape: (3, 4, 5)\n",
      "x3 size:  60\n"
     ]
    }
   ],
   "execution_count": 3
  },
  {
   "cell_type": "markdown",
   "metadata": {},
   "source": "Another useful attribute is the ``dtype``, the data type of the array"
  },
  {
   "cell_type": "code",
   "metadata": {
    "collapsed": false,
    "jupyter": {
     "outputs_hidden": false
    },
    "ExecuteTime": {
     "end_time": "2024-12-12T01:06:32.107874Z",
     "start_time": "2024-12-12T01:06:32.101657Z"
    }
   },
   "source": [
    "print(\"dtype:\", x3.dtype)"
   ],
   "outputs": [
    {
     "name": "stdout",
     "output_type": "stream",
     "text": [
      "dtype: float64\n"
     ]
    }
   ],
   "execution_count": 4
  },
  {
   "cell_type": "markdown",
   "metadata": {},
   "source": [
    "## Array Indexing: Accessing Single Elements"
   ]
  },
  {
   "cell_type": "markdown",
   "metadata": {},
   "source": [
    "If you are familiar with Python's standard list indexing, indexing in NumPy will feel quite familiar.\n",
    "In a one-dimensional array, the $i^{th}$ value (counting from zero) can be accessed by specifying the desired index in square brackets, just as with Python lists:"
   ]
  },
  {
   "cell_type": "code",
   "metadata": {
    "collapsed": false,
    "jupyter": {
     "outputs_hidden": false
    },
    "ExecuteTime": {
     "end_time": "2024-12-12T01:07:16.319731Z",
     "start_time": "2024-12-12T01:07:16.312554Z"
    }
   },
   "source": [
    "x1"
   ],
   "outputs": [
    {
     "data": {
      "text/plain": [
       "array([ 4.96714153, -1.38264301,  6.47688538, 15.23029856, -2.34153375,\n",
       "       -2.34136957])"
      ]
     },
     "execution_count": 5,
     "metadata": {},
     "output_type": "execute_result"
    }
   ],
   "execution_count": 5
  },
  {
   "cell_type": "code",
   "metadata": {
    "collapsed": false,
    "jupyter": {
     "outputs_hidden": false
    },
    "ExecuteTime": {
     "end_time": "2024-12-12T01:07:16.835555Z",
     "start_time": "2024-12-12T01:07:16.830973Z"
    }
   },
   "source": [
    "x1[0]"
   ],
   "outputs": [
    {
     "data": {
      "text/plain": [
       "np.float64(4.967141530112327)"
      ]
     },
     "execution_count": 6,
     "metadata": {},
     "output_type": "execute_result"
    }
   ],
   "execution_count": 6
  },
  {
   "cell_type": "code",
   "metadata": {
    "collapsed": false,
    "jupyter": {
     "outputs_hidden": false
    },
    "ExecuteTime": {
     "end_time": "2024-12-12T01:07:17.992742Z",
     "start_time": "2024-12-12T01:07:17.988813Z"
    }
   },
   "source": [
    "x1[4]"
   ],
   "outputs": [
    {
     "data": {
      "text/plain": [
       "np.float64(-2.3415337472333597)"
      ]
     },
     "execution_count": 7,
     "metadata": {},
     "output_type": "execute_result"
    }
   ],
   "execution_count": 7
  },
  {
   "cell_type": "markdown",
   "metadata": {},
   "source": [
    "To index from the end of the array, you can use negative indices:"
   ]
  },
  {
   "cell_type": "code",
   "metadata": {
    "collapsed": false,
    "jupyter": {
     "outputs_hidden": false
    },
    "ExecuteTime": {
     "end_time": "2024-12-12T01:07:19.453817Z",
     "start_time": "2024-12-12T01:07:19.449228Z"
    }
   },
   "source": [
    "x1[-1]"
   ],
   "outputs": [
    {
     "data": {
      "text/plain": [
       "np.float64(-2.3413695694918055)"
      ]
     },
     "execution_count": 8,
     "metadata": {},
     "output_type": "execute_result"
    }
   ],
   "execution_count": 8
  },
  {
   "cell_type": "code",
   "metadata": {
    "collapsed": false,
    "jupyter": {
     "outputs_hidden": false
    },
    "ExecuteTime": {
     "end_time": "2024-12-12T01:07:20.480668Z",
     "start_time": "2024-12-12T01:07:20.476082Z"
    }
   },
   "source": [
    "x1[-2]"
   ],
   "outputs": [
    {
     "data": {
      "text/plain": [
       "np.float64(-2.3415337472333597)"
      ]
     },
     "execution_count": 9,
     "metadata": {},
     "output_type": "execute_result"
    }
   ],
   "execution_count": 9
  },
  {
   "cell_type": "markdown",
   "metadata": {},
   "source": [
    "In a multi-dimensional array, items can be accessed using a comma-separated tuple of indices:"
   ]
  },
  {
   "cell_type": "code",
   "metadata": {
    "collapsed": false,
    "jupyter": {
     "outputs_hidden": false
    },
    "ExecuteTime": {
     "end_time": "2024-12-12T01:07:23.882373Z",
     "start_time": "2024-12-12T01:07:23.877140Z"
    }
   },
   "source": [
    "x2"
   ],
   "outputs": [
    {
     "data": {
      "text/plain": [
       "array([[7, 4, 3, 7],\n",
       "       [7, 2, 5, 4],\n",
       "       [1, 7, 5, 1]])"
      ]
     },
     "execution_count": 10,
     "metadata": {},
     "output_type": "execute_result"
    }
   ],
   "execution_count": 10
  },
  {
   "cell_type": "code",
   "metadata": {
    "collapsed": false,
    "jupyter": {
     "outputs_hidden": false
    },
    "ExecuteTime": {
     "end_time": "2024-12-12T01:07:25.472423Z",
     "start_time": "2024-12-12T01:07:25.466211Z"
    }
   },
   "source": [
    "x2[0, 0]"
   ],
   "outputs": [
    {
     "data": {
      "text/plain": [
       "np.int64(7)"
      ]
     },
     "execution_count": 11,
     "metadata": {},
     "output_type": "execute_result"
    }
   ],
   "execution_count": 11
  },
  {
   "cell_type": "code",
   "metadata": {
    "collapsed": false,
    "jupyter": {
     "outputs_hidden": false
    },
    "ExecuteTime": {
     "end_time": "2024-12-12T01:07:26.589802Z",
     "start_time": "2024-12-12T01:07:26.585421Z"
    }
   },
   "source": [
    "x2[2, 0]"
   ],
   "outputs": [
    {
     "data": {
      "text/plain": [
       "np.int64(1)"
      ]
     },
     "execution_count": 12,
     "metadata": {},
     "output_type": "execute_result"
    }
   ],
   "execution_count": 12
  },
  {
   "cell_type": "code",
   "metadata": {
    "collapsed": false,
    "jupyter": {
     "outputs_hidden": false
    },
    "ExecuteTime": {
     "end_time": "2024-12-12T01:07:27.396435Z",
     "start_time": "2024-12-12T01:07:27.392022Z"
    }
   },
   "source": [
    "x2[2, -1]"
   ],
   "outputs": [
    {
     "data": {
      "text/plain": [
       "np.int64(1)"
      ]
     },
     "execution_count": 13,
     "metadata": {},
     "output_type": "execute_result"
    }
   ],
   "execution_count": 13
  },
  {
   "cell_type": "markdown",
   "metadata": {},
   "source": [
    "Values can also be modified using any of the above index notation:"
   ]
  },
  {
   "cell_type": "code",
   "metadata": {
    "collapsed": false,
    "jupyter": {
     "outputs_hidden": false
    },
    "ExecuteTime": {
     "end_time": "2024-12-12T01:07:37.218906Z",
     "start_time": "2024-12-12T01:07:37.215302Z"
    }
   },
   "source": [
    "x2[0, 0] = 12\n",
    "x2"
   ],
   "outputs": [
    {
     "data": {
      "text/plain": [
       "array([[12,  4,  3,  7],\n",
       "       [ 7,  2,  5,  4],\n",
       "       [ 1,  7,  5,  1]])"
      ]
     },
     "execution_count": 14,
     "metadata": {},
     "output_type": "execute_result"
    }
   ],
   "execution_count": 14
  },
  {
   "cell_type": "markdown",
   "metadata": {},
   "source": [
    "Keep in mind that, unlike Python lists, NumPy arrays have a fixed type.\n",
    "This means, for example, that if you attempt to insert a floating-point value to an integer array, the value will be silently truncated. Don't be caught unaware by this behavior!"
   ]
  },
  {
   "cell_type": "code",
   "metadata": {
    "collapsed": false,
    "jupyter": {
     "outputs_hidden": false
    },
    "ExecuteTime": {
     "end_time": "2024-12-12T01:08:04.576119Z",
     "start_time": "2024-12-12T01:08:04.572027Z"
    }
   },
   "source": [
    "x2[0, 0] = 3.14159  # this will be truncated!\n",
    "x2"
   ],
   "outputs": [
    {
     "data": {
      "text/plain": [
       "array([[3, 4, 3, 7],\n",
       "       [7, 2, 5, 4],\n",
       "       [1, 7, 5, 1]])"
      ]
     },
     "execution_count": 16,
     "metadata": {},
     "output_type": "execute_result"
    }
   ],
   "execution_count": 16
  },
  {
   "cell_type": "markdown",
   "metadata": {},
   "source": [
    "## Array Slicing: Accessing Subarrays"
   ]
  },
  {
   "cell_type": "markdown",
   "metadata": {},
   "source": [
    "Just as we can use square brackets to access individual array elements, we can also use them to access subarrays with the *slice* notation, marked by the colon (``:``) character.\n",
    "The NumPy slicing syntax follows that of the standard Python list; to access a slice of an array ``x``, use this:\n",
    "``` python\n",
    "x[start:stop:step]\n",
    "```\n",
    "If any of these are unspecified, they default to the values ``start=0``, ``stop=``*``size of dimension``*, ``step=1``.\n",
    "We'll take a look at accessing sub-arrays in one dimension and in multiple dimensions."
   ]
  },
  {
   "cell_type": "markdown",
   "metadata": {},
   "source": [
    "### One-dimensional subarrays"
   ]
  },
  {
   "cell_type": "code",
   "metadata": {
    "collapsed": false,
    "jupyter": {
     "outputs_hidden": false
    },
    "ExecuteTime": {
     "end_time": "2024-12-12T01:09:00.886936Z",
     "start_time": "2024-12-12T01:09:00.883027Z"
    }
   },
   "source": [
    "x = np.linspace(0, 10, 10)\n",
    "x"
   ],
   "outputs": [
    {
     "data": {
      "text/plain": [
       "array([ 0.        ,  1.11111111,  2.22222222,  3.33333333,  4.44444444,\n",
       "        5.55555556,  6.66666667,  7.77777778,  8.88888889, 10.        ])"
      ]
     },
     "execution_count": 21,
     "metadata": {},
     "output_type": "execute_result"
    }
   ],
   "execution_count": 21
  },
  {
   "cell_type": "code",
   "metadata": {
    "collapsed": false,
    "jupyter": {
     "outputs_hidden": false
    },
    "ExecuteTime": {
     "end_time": "2024-12-12T01:09:01.594965Z",
     "start_time": "2024-12-12T01:09:01.590570Z"
    }
   },
   "source": [
    "x[:5]  # first five elements"
   ],
   "outputs": [
    {
     "data": {
      "text/plain": [
       "array([0.        , 1.11111111, 2.22222222, 3.33333333, 4.44444444])"
      ]
     },
     "execution_count": 22,
     "metadata": {},
     "output_type": "execute_result"
    }
   ],
   "execution_count": 22
  },
  {
   "cell_type": "code",
   "metadata": {
    "collapsed": false,
    "jupyter": {
     "outputs_hidden": false
    },
    "ExecuteTime": {
     "end_time": "2024-12-12T01:09:04.673418Z",
     "start_time": "2024-12-12T01:09:04.668925Z"
    }
   },
   "source": [
    "x[5:]  # elements after index 5"
   ],
   "outputs": [
    {
     "data": {
      "text/plain": [
       "array([ 5.55555556,  6.66666667,  7.77777778,  8.88888889, 10.        ])"
      ]
     },
     "execution_count": 23,
     "metadata": {},
     "output_type": "execute_result"
    }
   ],
   "execution_count": 23
  },
  {
   "cell_type": "code",
   "metadata": {
    "collapsed": false,
    "jupyter": {
     "outputs_hidden": false
    },
    "ExecuteTime": {
     "end_time": "2024-12-12T01:09:07.781186Z",
     "start_time": "2024-12-12T01:09:07.777040Z"
    }
   },
   "source": [
    "x[4:7]  # middle sub-array"
   ],
   "outputs": [
    {
     "data": {
      "text/plain": [
       "array([4.44444444, 5.55555556, 6.66666667])"
      ]
     },
     "execution_count": 24,
     "metadata": {},
     "output_type": "execute_result"
    }
   ],
   "execution_count": 24
  },
  {
   "cell_type": "code",
   "metadata": {
    "collapsed": false,
    "jupyter": {
     "outputs_hidden": false
    },
    "ExecuteTime": {
     "end_time": "2024-12-12T01:09:08.695664Z",
     "start_time": "2024-12-12T01:09:08.691931Z"
    }
   },
   "source": [
    "x[::2]  # every other element"
   ],
   "outputs": [
    {
     "data": {
      "text/plain": [
       "array([0.        , 2.22222222, 4.44444444, 6.66666667, 8.88888889])"
      ]
     },
     "execution_count": 25,
     "metadata": {},
     "output_type": "execute_result"
    }
   ],
   "execution_count": 25
  },
  {
   "cell_type": "code",
   "metadata": {
    "collapsed": false,
    "jupyter": {
     "outputs_hidden": false
    },
    "ExecuteTime": {
     "end_time": "2024-12-12T01:09:11.650154Z",
     "start_time": "2024-12-12T01:09:11.646601Z"
    }
   },
   "source": [
    "x[1::2]  # every other element, starting at index 1"
   ],
   "outputs": [
    {
     "data": {
      "text/plain": [
       "array([ 1.11111111,  3.33333333,  5.55555556,  7.77777778, 10.        ])"
      ]
     },
     "execution_count": 26,
     "metadata": {},
     "output_type": "execute_result"
    }
   ],
   "execution_count": 26
  },
  {
   "cell_type": "markdown",
   "metadata": {},
   "source": [
    "A potentially confusing case is when the ``step`` value is negative.\n",
    "In this case, the defaults for ``start`` and ``stop`` are swapped.\n",
    "This becomes a convenient way to reverse an array:"
   ]
  },
  {
   "cell_type": "code",
   "metadata": {
    "collapsed": false,
    "jupyter": {
     "outputs_hidden": false
    },
    "ExecuteTime": {
     "end_time": "2024-12-12T01:09:35.302488Z",
     "start_time": "2024-12-12T01:09:35.298323Z"
    }
   },
   "source": [
    "x[::-1]  # all elements, reversed"
   ],
   "outputs": [
    {
     "data": {
      "text/plain": [
       "array([10.        ,  8.88888889,  7.77777778,  6.66666667,  5.55555556,\n",
       "        4.44444444,  3.33333333,  2.22222222,  1.11111111,  0.        ])"
      ]
     },
     "execution_count": 27,
     "metadata": {},
     "output_type": "execute_result"
    }
   ],
   "execution_count": 27
  },
  {
   "cell_type": "code",
   "metadata": {
    "collapsed": false,
    "jupyter": {
     "outputs_hidden": false
    },
    "ExecuteTime": {
     "end_time": "2024-12-12T01:09:35.732745Z",
     "start_time": "2024-12-12T01:09:35.728866Z"
    }
   },
   "source": [
    "x[5::-2]  # reversed every other from index 5"
   ],
   "outputs": [
    {
     "data": {
      "text/plain": [
       "array([5.55555556, 3.33333333, 1.11111111])"
      ]
     },
     "execution_count": 28,
     "metadata": {},
     "output_type": "execute_result"
    }
   ],
   "execution_count": 28
  },
  {
   "cell_type": "markdown",
   "metadata": {},
   "source": [
    "### Multi-dimensional subarrays\n",
    "\n",
    "Multi-dimensional slices work in the same way, with multiple slices separated by commas.\n",
    "For example:"
   ]
  },
  {
   "cell_type": "code",
   "metadata": {
    "collapsed": false,
    "jupyter": {
     "outputs_hidden": false
    },
    "ExecuteTime": {
     "end_time": "2024-12-12T01:09:48.358726Z",
     "start_time": "2024-12-12T01:09:48.355006Z"
    }
   },
   "source": [
    "x2"
   ],
   "outputs": [
    {
     "data": {
      "text/plain": [
       "array([[3, 4, 3, 7],\n",
       "       [7, 2, 5, 4],\n",
       "       [1, 7, 5, 1]])"
      ]
     },
     "execution_count": 29,
     "metadata": {},
     "output_type": "execute_result"
    }
   ],
   "execution_count": 29
  },
  {
   "cell_type": "code",
   "metadata": {
    "collapsed": false,
    "jupyter": {
     "outputs_hidden": false
    },
    "ExecuteTime": {
     "end_time": "2024-12-12T01:09:49.903166Z",
     "start_time": "2024-12-12T01:09:49.898893Z"
    }
   },
   "source": [
    "x2[:2, :3]  # two rows, three columns"
   ],
   "outputs": [
    {
     "data": {
      "text/plain": [
       "array([[3, 4, 3],\n",
       "       [7, 2, 5]])"
      ]
     },
     "execution_count": 30,
     "metadata": {},
     "output_type": "execute_result"
    }
   ],
   "execution_count": 30
  },
  {
   "cell_type": "code",
   "metadata": {
    "collapsed": false,
    "jupyter": {
     "outputs_hidden": false
    },
    "ExecuteTime": {
     "end_time": "2024-12-12T01:09:50.862302Z",
     "start_time": "2024-12-12T01:09:50.853937Z"
    }
   },
   "source": [
    "x2[:3, ::2]  # all rows, every other column"
   ],
   "outputs": [
    {
     "data": {
      "text/plain": [
       "array([[3, 3],\n",
       "       [7, 5],\n",
       "       [1, 5]])"
      ]
     },
     "execution_count": 31,
     "metadata": {},
     "output_type": "execute_result"
    }
   ],
   "execution_count": 31
  },
  {
   "cell_type": "markdown",
   "metadata": {},
   "source": [
    "Finally, subarray dimensions can even be reversed together:"
   ]
  },
  {
   "cell_type": "code",
   "metadata": {
    "collapsed": false,
    "jupyter": {
     "outputs_hidden": false
    },
    "ExecuteTime": {
     "end_time": "2024-12-12T01:09:54.117653Z",
     "start_time": "2024-12-12T01:09:54.113391Z"
    }
   },
   "source": [
    "x2[::-1, ::-1]"
   ],
   "outputs": [
    {
     "data": {
      "text/plain": [
       "array([[1, 5, 7, 1],\n",
       "       [4, 5, 2, 7],\n",
       "       [7, 3, 4, 3]])"
      ]
     },
     "execution_count": 32,
     "metadata": {},
     "output_type": "execute_result"
    }
   ],
   "execution_count": 32
  },
  {
   "cell_type": "markdown",
   "metadata": {},
   "source": [
    "#### Accessing array rows and columns\n",
    "\n",
    "One commonly needed routine is accessing of single rows or columns of an array.\n",
    "This can be done by combining indexing and slicing, using an empty slice marked by a single colon (``:``):"
   ]
  },
  {
   "cell_type": "code",
   "metadata": {
    "collapsed": false,
    "jupyter": {
     "outputs_hidden": false
    },
    "ExecuteTime": {
     "end_time": "2024-12-12T01:10:07.319093Z",
     "start_time": "2024-12-12T01:10:07.314181Z"
    }
   },
   "source": [
    "print(x2[:, 0])  # first column of x2"
   ],
   "outputs": [
    {
     "name": "stdout",
     "output_type": "stream",
     "text": [
      "[3 7 1]\n"
     ]
    }
   ],
   "execution_count": 33
  },
  {
   "cell_type": "code",
   "metadata": {
    "collapsed": false,
    "jupyter": {
     "outputs_hidden": false
    },
    "ExecuteTime": {
     "end_time": "2024-12-12T01:10:07.750049Z",
     "start_time": "2024-12-12T01:10:07.745087Z"
    }
   },
   "source": [
    "print(x2[0, :])  # first row of x2"
   ],
   "outputs": [
    {
     "name": "stdout",
     "output_type": "stream",
     "text": [
      "[3 4 3 7]\n"
     ]
    }
   ],
   "execution_count": 34
  },
  {
   "cell_type": "markdown",
   "metadata": {},
   "source": [
    "In the case of row access, the empty slice can be omitted for a more compact syntax:"
   ]
  },
  {
   "cell_type": "code",
   "metadata": {
    "collapsed": false,
    "jupyter": {
     "outputs_hidden": false
    },
    "ExecuteTime": {
     "end_time": "2024-12-12T01:10:16.548025Z",
     "start_time": "2024-12-12T01:10:16.543662Z"
    }
   },
   "source": [
    "print(x2[0])  # equivalent to x2[0, :]"
   ],
   "outputs": [
    {
     "name": "stdout",
     "output_type": "stream",
     "text": [
      "[3 4 3 7]\n"
     ]
    }
   ],
   "execution_count": 35
  },
  {
   "cell_type": "markdown",
   "metadata": {},
   "source": [
    "### Subarrays as no-copy views\n",
    "\n",
    "One important–and extremely useful–thing to know about array slices is that they return *views* rather than *copies* of the array data.\n",
    "This is one area in which NumPy array slicing differs from Python list slicing: in lists, slices will be copies.\n",
    "Consider our two-dimensional array from before:"
   ]
  },
  {
   "cell_type": "code",
   "metadata": {
    "collapsed": false,
    "jupyter": {
     "outputs_hidden": false
    },
    "ExecuteTime": {
     "end_time": "2024-12-12T01:10:34.746705Z",
     "start_time": "2024-12-12T01:10:34.742913Z"
    }
   },
   "source": [
    "print(x2)"
   ],
   "outputs": [
    {
     "name": "stdout",
     "output_type": "stream",
     "text": [
      "[[3 4 3 7]\n",
      " [7 2 5 4]\n",
      " [1 7 5 1]]\n"
     ]
    }
   ],
   "execution_count": 36
  },
  {
   "cell_type": "markdown",
   "metadata": {},
   "source": [
    "Let's extract a $2 \\times 2$ subarray from this:"
   ]
  },
  {
   "cell_type": "code",
   "metadata": {
    "collapsed": false,
    "jupyter": {
     "outputs_hidden": false
    },
    "ExecuteTime": {
     "end_time": "2024-12-12T01:10:38.131362Z",
     "start_time": "2024-12-12T01:10:38.127518Z"
    }
   },
   "source": [
    "x2_sub = x2[:2, :2]\n",
    "print(x2_sub)"
   ],
   "outputs": [
    {
     "name": "stdout",
     "output_type": "stream",
     "text": [
      "[[3 4]\n",
      " [7 2]]\n"
     ]
    }
   ],
   "execution_count": 37
  },
  {
   "cell_type": "markdown",
   "metadata": {},
   "source": [
    "Now if we modify this subarray, we'll see that the original array is changed! Observe:"
   ]
  },
  {
   "cell_type": "code",
   "metadata": {
    "collapsed": false,
    "jupyter": {
     "outputs_hidden": false
    },
    "ExecuteTime": {
     "end_time": "2024-12-12T01:10:44.131804Z",
     "start_time": "2024-12-12T01:10:44.124928Z"
    }
   },
   "source": [
    "x2_sub[0, 0] = 99\n",
    "print(x2_sub)"
   ],
   "outputs": [
    {
     "name": "stdout",
     "output_type": "stream",
     "text": [
      "[[99  4]\n",
      " [ 7  2]]\n"
     ]
    }
   ],
   "execution_count": 38
  },
  {
   "cell_type": "code",
   "metadata": {
    "collapsed": false,
    "jupyter": {
     "outputs_hidden": false
    },
    "ExecuteTime": {
     "end_time": "2024-12-12T01:10:45.900581Z",
     "start_time": "2024-12-12T01:10:45.896407Z"
    }
   },
   "source": [
    "print(x2)"
   ],
   "outputs": [
    {
     "name": "stdout",
     "output_type": "stream",
     "text": [
      "[[99  4  3  7]\n",
      " [ 7  2  5  4]\n",
      " [ 1  7  5  1]]\n"
     ]
    }
   ],
   "execution_count": 39
  },
  {
   "cell_type": "markdown",
   "metadata": {},
   "source": [
    "This default behavior is actually quite useful: it means that when we work with large datasets, we can access and process pieces of these datasets without the need to copy the underlying data buffer."
   ]
  },
  {
   "cell_type": "markdown",
   "metadata": {},
   "source": [
    "### Creating copies of arrays\n",
    "\n",
    "Despite the nice features of array views, it is sometimes useful to instead explicitly copy the data within an array or a subarray. This can be most easily done with the ``copy()`` method:"
   ]
  },
  {
   "cell_type": "code",
   "metadata": {
    "collapsed": false,
    "jupyter": {
     "outputs_hidden": false
    },
    "ExecuteTime": {
     "end_time": "2024-12-12T01:10:57.045174Z",
     "start_time": "2024-12-12T01:10:57.040626Z"
    }
   },
   "source": [
    "x2_sub_copy = x2[:2, :2].copy()\n",
    "print(x2_sub_copy)"
   ],
   "outputs": [
    {
     "name": "stdout",
     "output_type": "stream",
     "text": [
      "[[99  4]\n",
      " [ 7  2]]\n"
     ]
    }
   ],
   "execution_count": 40
  },
  {
   "cell_type": "markdown",
   "metadata": {},
   "source": [
    "If we now modify this subarray, the original array is not touched:"
   ]
  },
  {
   "cell_type": "code",
   "metadata": {
    "collapsed": false,
    "jupyter": {
     "outputs_hidden": false
    },
    "ExecuteTime": {
     "end_time": "2024-12-12T01:10:58.709126Z",
     "start_time": "2024-12-12T01:10:58.702382Z"
    }
   },
   "source": [
    "x2_sub_copy[0, 0] = 42\n",
    "print(x2_sub_copy)"
   ],
   "outputs": [
    {
     "name": "stdout",
     "output_type": "stream",
     "text": [
      "[[42  4]\n",
      " [ 7  2]]\n"
     ]
    }
   ],
   "execution_count": 41
  },
  {
   "cell_type": "code",
   "metadata": {
    "collapsed": false,
    "jupyter": {
     "outputs_hidden": false
    },
    "ExecuteTime": {
     "end_time": "2024-12-12T01:11:00.211656Z",
     "start_time": "2024-12-12T01:11:00.207165Z"
    }
   },
   "source": [
    "print(x2)"
   ],
   "outputs": [
    {
     "name": "stdout",
     "output_type": "stream",
     "text": [
      "[[99  4  3  7]\n",
      " [ 7  2  5  4]\n",
      " [ 1  7  5  1]]\n"
     ]
    }
   ],
   "execution_count": 42
  },
  {
   "cell_type": "markdown",
   "metadata": {},
   "source": [
    "## Array Concatenation and Splitting\n",
    "\n",
    "All of the preceding routines worked on single arrays. It's also possible to combine multiple arrays into one, and to conversely split a single array into multiple arrays. We'll take a look at those operations here."
   ]
  },
  {
   "cell_type": "markdown",
   "metadata": {},
   "source": [
    "### Concatenation of arrays\n",
    "\n",
    "Concatenation, or joining of two arrays in NumPy, is primarily accomplished using the routines ``np.concatenate``, ``np.vstack``, and ``np.hstack``.\n",
    "``np.concatenate`` takes a tuple or list of arrays as its first argument, as we can see here:"
   ]
  },
  {
   "cell_type": "code",
   "metadata": {
    "collapsed": false,
    "jupyter": {
     "outputs_hidden": false
    },
    "ExecuteTime": {
     "end_time": "2024-12-12T01:11:54.109531Z",
     "start_time": "2024-12-12T01:11:54.105579Z"
    }
   },
   "source": [
    "x = np.array([1, 2, 3])\n",
    "y = np.array([3, 2, 1])\n",
    "np.concatenate([x, y])"
   ],
   "outputs": [
    {
     "data": {
      "text/plain": [
       "array([1, 2, 3, 3, 2, 1])"
      ]
     },
     "execution_count": 43,
     "metadata": {},
     "output_type": "execute_result"
    }
   ],
   "execution_count": 43
  },
  {
   "cell_type": "markdown",
   "metadata": {},
   "source": [
    "You can also concatenate more than two arrays at once:"
   ]
  },
  {
   "cell_type": "code",
   "metadata": {
    "collapsed": false,
    "jupyter": {
     "outputs_hidden": false
    },
    "ExecuteTime": {
     "end_time": "2024-12-12T01:12:00.297747Z",
     "start_time": "2024-12-12T01:12:00.293834Z"
    }
   },
   "source": [
    "z = [99, 99, 99]\n",
    "print(np.concatenate([x, y, z]))"
   ],
   "outputs": [
    {
     "name": "stdout",
     "output_type": "stream",
     "text": [
      "[ 1  2  3  3  2  1 99 99 99]\n"
     ]
    }
   ],
   "execution_count": 44
  },
  {
   "metadata": {},
   "cell_type": "markdown",
   "source": [
    "## Operations on NumPy Arrays\n",
    "\n",
    "NumPy provides a number of functions to perform operations on NumPy arrays that are much more efficient than looping over the arrays.\n",
    "They fall into three categories:\n",
    "- *unary* operations, which operate on a single array\n",
    "- *binary* operations, which operate on two arrays\n",
    "- *aggregates*, which summarize the values in an array\n",
    "\n",
    "In general, they act like mathematical vectors."
   ]
  },
  {
   "metadata": {
    "ExecuteTime": {
     "end_time": "2024-12-12T02:02:35.472800Z",
     "start_time": "2024-12-12T02:02:35.469411Z"
    }
   },
   "cell_type": "code",
   "source": [
    "shape = (3, 4)\n",
    "x = rndgen.normal(0, 10, size=shape)\n",
    "y = rndgen.normal(5, 1, size=shape)"
   ],
   "outputs": [],
   "execution_count": 52
  },
  {
   "metadata": {
    "ExecuteTime": {
     "end_time": "2024-12-12T02:02:36.045898Z",
     "start_time": "2024-12-12T02:02:36.041303Z"
    }
   },
   "cell_type": "code",
   "source": "x * 3  # multiply each element by 3",
   "outputs": [
    {
     "data": {
      "text/plain": [
       "array([[-57.39840734, -51.74753498, -16.86862588, -30.38493361],\n",
       "       [  9.42741998, -27.24072227, -42.36911104,  43.96946307],\n",
       "       [ -6.77328901,   2.02584614, -42.74244559, -16.33148174]])"
      ]
     },
     "execution_count": 53,
     "metadata": {},
     "output_type": "execute_result"
    }
   ],
   "execution_count": 53
  },
  {
   "metadata": {
    "ExecuteTime": {
     "end_time": "2024-12-12T02:02:36.923272Z",
     "start_time": "2024-12-12T02:02:36.919334Z"
    }
   },
   "cell_type": "code",
   "source": "x + y  # add each element of x to the corresponding element of y",
   "outputs": [
    {
     "data": {
      "text/plain": [
       "array([[-14.02187986, -13.4001719 ,  -0.24717727,  -5.72894989],\n",
       "       [  7.85077958,  -4.68194737,  -7.27075883,  19.64299046],\n",
       "       [  1.68452607,   6.49782696, -10.46832551,  -0.23496365]])"
      ]
     },
     "execution_count": 54,
     "metadata": {},
     "output_type": "execute_result"
    }
   ],
   "execution_count": 54
  },
  {
   "metadata": {
    "ExecuteTime": {
     "end_time": "2024-12-12T02:02:37.262673Z",
     "start_time": "2024-12-12T02:02:37.258993Z"
    }
   },
   "cell_type": "code",
   "source": "np.maximum(x, y)  # element-wise maximum",
   "outputs": [
    {
     "data": {
      "text/plain": [
       "array([[ 5.11092259,  3.84900642,  5.37569802,  4.39936131],\n",
       "       [ 4.70830625,  4.39829339,  6.85227818, 14.65648769],\n",
       "       [ 3.94228907,  5.82254491,  3.77915635,  5.2088636 ]])"
      ]
     },
     "execution_count": 55,
     "metadata": {},
     "output_type": "execute_result"
    }
   ],
   "execution_count": 55
  },
  {
   "metadata": {
    "ExecuteTime": {
     "end_time": "2024-12-12T02:02:37.890999Z",
     "start_time": "2024-12-12T02:02:37.887382Z"
    }
   },
   "cell_type": "code",
   "source": "np.cos(x)  # cosine of each element",
   "outputs": [
    {
     "data": {
      "text/plain": [
       "array([[ 0.96015318, -0.02957696,  0.78980212, -0.76256124],\n",
       "       [-0.99999961, -0.94123187,  0.01412946, -0.49629056],\n",
       "       [-0.63419482,  0.78053067, -0.11009131,  0.6679407 ]])"
      ]
     },
     "execution_count": 56,
     "metadata": {},
     "output_type": "execute_result"
    }
   ],
   "execution_count": 56
  },
  {
   "metadata": {},
   "cell_type": "markdown",
   "source": [
    "### Aggregation\n",
    "\n",
    "Aggregates are functions that summarize the values in an array, they can be only over some axis or over the whole array."
   ]
  },
  {
   "metadata": {
    "ExecuteTime": {
     "end_time": "2024-12-12T02:03:31.555993Z",
     "start_time": "2024-12-12T02:03:31.551248Z"
    }
   },
   "cell_type": "code",
   "source": "np.sum(x)  # sum of all elements",
   "outputs": [
    {
     "data": {
      "text/plain": [
       "np.float64(-78.81127408623152)"
      ]
     },
     "execution_count": 57,
     "metadata": {},
     "output_type": "execute_result"
    }
   ],
   "execution_count": 57
  },
  {
   "metadata": {
    "ExecuteTime": {
     "end_time": "2024-12-12T02:03:34.092759Z",
     "start_time": "2024-12-12T02:03:34.088171Z"
    }
   },
   "cell_type": "code",
   "source": "np.sum(x, axis=0)  # sum of each column",
   "outputs": [
    {
     "data": {
      "text/plain": [
       "array([-18.24809213, -25.65413703, -33.99339417,  -0.91565076])"
      ]
     },
     "execution_count": 58,
     "metadata": {},
     "output_type": "execute_result"
    }
   ],
   "execution_count": 58
  },
  {
   "metadata": {},
   "cell_type": "markdown",
   "source": [
    "### Boolean operations\n",
    "\n",
    "NumPy also implements comparison operators such as ``<`` (less than) and ``>`` (greater than) or ``==`` (equal) as element-wise functions.\n",
    "What do you expect the following to return?"
   ]
  },
  {
   "metadata": {
    "ExecuteTime": {
     "end_time": "2024-12-12T02:06:28.372168Z",
     "start_time": "2024-12-12T02:06:28.365521Z"
    }
   },
   "cell_type": "code",
   "source": "x < 5",
   "outputs": [
    {
     "data": {
      "text/plain": [
       "array([[ True,  True,  True,  True],\n",
       "       [ True,  True,  True, False],\n",
       "       [ True,  True,  True,  True]])"
      ]
     },
     "execution_count": 59,
     "metadata": {},
     "output_type": "execute_result"
    }
   ],
   "execution_count": 59
  },
  {
   "metadata": {
    "ExecuteTime": {
     "end_time": "2024-12-12T02:06:31.858751Z",
     "start_time": "2024-12-12T02:06:31.854831Z"
    }
   },
   "cell_type": "code",
   "source": "x == y",
   "outputs": [
    {
     "data": {
      "text/plain": [
       "array([[False, False, False, False],\n",
       "       [False, False, False, False],\n",
       "       [False, False, False, False]])"
      ]
     },
     "execution_count": 60,
     "metadata": {},
     "output_type": "execute_result"
    }
   ],
   "execution_count": 60
  },
  {
   "metadata": {},
   "cell_type": "markdown",
   "source": [
    "### Boolean indexing\n",
    "\n",
    "Boolean indexing is a powerful feature that allows you to select elements of an array that satisfy some condition.\n",
    "Using a boolean mask, you can index an array where the elements are selected where the mask is ``True``."
   ]
  },
  {
   "metadata": {
    "ExecuteTime": {
     "end_time": "2024-12-12T02:11:07.818750Z",
     "start_time": "2024-12-12T02:11:07.814879Z"
    }
   },
   "cell_type": "code",
   "source": [
    "select_lt1 = x < 1\n",
    "select_lt1"
   ],
   "outputs": [
    {
     "data": {
      "text/plain": [
       "array([[ True,  True,  True,  True],\n",
       "       [False,  True,  True, False],\n",
       "       [ True,  True,  True,  True]])"
      ]
     },
     "execution_count": 63,
     "metadata": {},
     "output_type": "execute_result"
    }
   ],
   "execution_count": 63
  },
  {
   "metadata": {
    "ExecuteTime": {
     "end_time": "2024-12-12T02:11:12.731826Z",
     "start_time": "2024-12-12T02:11:12.728452Z"
    }
   },
   "cell_type": "code",
   "source": "x[select_lt1]",
   "outputs": [
    {
     "data": {
      "text/plain": [
       "array([-19.13280245, -17.24917833,  -5.62287529, -10.1283112 ,\n",
       "        -9.08024076, -14.12303701,  -2.257763  ,   0.67528205,\n",
       "       -14.24748186,  -5.44382725])"
      ]
     },
     "execution_count": 65,
     "metadata": {},
     "output_type": "execute_result"
    }
   ],
   "execution_count": 65
  },
  {
   "metadata": {},
   "cell_type": "markdown",
   "source": [
    "This operation is particularly useful for filtering data.\n",
    "\n",
    "A problem of our data  is that we have to remember which row corresponds to which column, as they are only numbers."
   ]
  }
 ],
 "metadata": {
  "anaconda-cloud": {},
  "kernelspec": {
   "display_name": "Python 3 (ipykernel)",
   "language": "python",
   "name": "python3"
  },
  "language_info": {
   "codemirror_mode": {
    "name": "ipython",
    "version": 3
   },
   "file_extension": ".py",
   "mimetype": "text/x-python",
   "name": "python",
   "nbconvert_exporter": "python",
   "pygments_lexer": "ipython3",
   "version": "3.11.11"
  }
 },
 "nbformat": 4,
 "nbformat_minor": 4
}

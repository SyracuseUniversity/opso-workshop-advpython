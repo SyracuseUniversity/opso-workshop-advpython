{
 "cells": [
  {
   "cell_type": "markdown",
   "metadata": {
    "pycharm": {
     "name": "#%% md\n"
    }
   },
   "source": [
    "\n",
    "# Histograms\n",
    "\n",
    "Histograms provide a neat way of visualizing data distribution. Morevoer, they reduce the data size by binning the data significantly: instead of storing each data point, that is N floats, we only need to store the bin content, which is a much smaller, and constant, number.\n",
    "\n",
    "For large data sets, histograms are often the way to go.\n",
    "\n",
    "While matplotlib provides a way to plot histograms, and numpy a way to bin data, they offer only basic functionality and do not help with other aspects like binning, axis labeling, etc.\n",
    "Furthermore, matplotlib does not provide a way to plot an **already binned histogram**. With large amounts of data, it is maybe a necessity to bin the data before plotting it.\n",
    "\n",
    "## hist\n",
    "\n",
    "`hist` is a library that provides a way to create and manipulate histograms, it is highly performant and offers a lot of functionality around histograms"
   ]
  },
  {
   "cell_type": "code",
   "execution_count": null,
   "metadata": {
    "pycharm": {
     "name": "#%%\n"
    }
   },
   "outputs": [],
   "source": [
    "import hist\n",
    "import mplhep\n",
    "import numpy as np"
   ]
  },
  {
   "cell_type": "code",
   "execution_count": null,
   "metadata": {},
   "outputs": [],
   "source": [
    "nsamples = 10_000_000\n",
    "array1 = np.random.normal(0, 1, nsamples)\n",
    "array2 = np.random.normal(1, 3, nsamples)\n",
    "array12 = np.stack([array1, array2], axis=-1)"
   ]
  },
  {
   "cell_type": "code",
   "execution_count": null,
   "metadata": {},
   "outputs": [],
   "source": [
    "bins, edges = np.histogramdd(array12, bins=6)"
   ]
  },
  {
   "cell_type": "code",
   "execution_count": null,
   "metadata": {},
   "outputs": [],
   "source": [
    "%%timeit\n",
    "bins, edges = np.histogramdd(array12, bins=6)"
   ]
  },
  {
   "cell_type": "code",
   "execution_count": null,
   "metadata": {},
   "outputs": [],
   "source": [
    "bins"
   ]
  },
  {
   "cell_type": "markdown",
   "metadata": {},
   "source": [
    "We cannot easily plot them. No uncertainty bars, no labels, the binning is not clear, etc."
   ]
  },
  {
   "cell_type": "code",
   "execution_count": null,
   "metadata": {},
   "outputs": [],
   "source": [
    "# Compose axis however you like; this is a 2D histogram\n",
    "axis1 = hist.axis.Regular(6, -5, 5, name='x')\n",
    "axis2 = hist.axis.Regular(6, -15, 20, name='y')\n",
    "h = hist.Hist(axis1, axis2)"
   ]
  },
  {
   "cell_type": "code",
   "execution_count": null,
   "metadata": {},
   "outputs": [],
   "source": [
    "# Filling can be done with arrays, one per dimension\n",
    "h.fill(x=array1, y=array2)"
   ]
  },
  {
   "cell_type": "code",
   "execution_count": null,
   "metadata": {},
   "outputs": [],
   "source": [
    "%%timeit  # to time it, we put everything in one cell\n",
    "# Filling can be done with arrays, one per dimension\n",
    "axistmp1 = hist.axis.Regular(6, -5, 5, name='x')\n",
    "axistmp2 = hist.axis.Regular(6, -15, 20, name='y')\n",
    "h = hist.Hist(axistmp1, axistmp2)\n",
    "h.fill(x=array1, y=array2)"
   ]
  },
  {
   "cell_type": "code",
   "execution_count": null,
   "metadata": {
    "pycharm": {
     "name": "#%%\n"
    }
   },
   "outputs": [],
   "source": [
    "# NumPy array view into histogram counts, no overflow bins\n",
    "counts = h.counts()\n",
    "variances = h.variances()  # errors\n",
    "print(f\"counts = {counts}, variances = {variances}\")"
   ]
  },
  {
   "cell_type": "code",
   "execution_count": null,
   "metadata": {},
   "outputs": [],
   "source": [
    "# Let's plot it\n",
    "h.plot2d()"
   ]
  },
  {
   "cell_type": "markdown",
   "metadata": {
    "pycharm": {
     "name": "#%% md\n"
    }
   },
   "source": [
    "## Axes\n",
    "\n",
    "A cental part of a histogram are the axes: They define the binning and other treats of the axis.\n",
    "\n",
    "A Hist can have multiple axes of different types.\n",
    "\n",
    "All axes are described [here](https://hist.readthedocs.io/en/latest/user-guide/axes.html#axes).\n",
    "\n",
    "\n",
    "\n",
    "The most important types are\n",
    "\n",
    "\n",
    "### Regular\n",
    "\n",
    "This is an axis with lower, upper limits, **regularly** split into n bins.\n",
    "\n",
    "```\n",
    "axis_reg = hist.axis.Regular(nbins, lower, upper, name=name)\n",
    "```\n",
    "\n",
    "### Variable\n",
    "\n",
    "A variable axis allows to set the bin edges arbitrarily using an array-like object.mro\n",
    "```\n",
    "axis_var = hist.axis.Variable([0, 0.5, 3.1, 3.4], name=\"eta\")\n",
    "```\n",
    "\n",
    "## Axis Name\n",
    "\n",
    "An axis has a name, which can be used as the identifier\n",
    "when working with the histogram (instead of using plain integer indexes) and optionally a label, which can be used for plotting."
   ]
  },
  {
   "cell_type": "code",
   "execution_count": null,
   "metadata": {},
   "outputs": [],
   "source": [
    "axisreg = hist.axis.Regular(bins=50, start=-10, stop=10, name=\"length\", label=\"Length [cm]\")"
   ]
  },
  {
   "cell_type": "markdown",
   "metadata": {},
   "source": [
    "To create a histogram, we can pass one or multiple axes to a histogram"
   ]
  },
  {
   "cell_type": "code",
   "execution_count": null,
   "metadata": {
    "pycharm": {
     "name": "#%%\n"
    }
   },
   "outputs": [],
   "source": [
    "data_h = hist.Hist(axisreg)"
   ]
  },
  {
   "cell_type": "code",
   "execution_count": null,
   "metadata": {},
   "outputs": [],
   "source": [
    "data_h.fill(length=array1)"
   ]
  },
  {
   "cell_type": "code",
   "execution_count": null,
   "metadata": {},
   "outputs": [],
   "source": [
    "# only filling the first 1000 entries to see the uncertainty\n",
    "data_h2 = hist.Hist(axisreg).fill(array1[:1000])  # we can also chain the commands"
   ]
  },
  {
   "cell_type": "markdown",
   "metadata": {},
   "source": [
    "### Plotting with mplhep\n",
    "\n",
    "As matplotlib doesn't offer a native way for plotting histograms, we can use the `hist` methods. Another way with more options is the `mplhep` package, which is (like all plotting shown here) a high-level interface to matplotlib.\n",
    "In short, mplhep and hist work seamless together:"
   ]
  },
  {
   "cell_type": "code",
   "execution_count": null,
   "metadata": {},
   "outputs": [],
   "source": [
    "mplhep.histplot(data_h2, histtype=\"errorbar\")  # we clearly see the uncertainty"
   ]
  },
  {
   "cell_type": "markdown",
   "metadata": {},
   "source": [
    "### Plotting with hist\n",
    "\n",
    "\n",
    "As we've seen already, `hist` itself provides also plotting functionality"
   ]
  },
  {
   "cell_type": "code",
   "execution_count": null,
   "metadata": {},
   "outputs": [],
   "source": [
    "data_h.plot1d()"
   ]
  },
  {
   "cell_type": "markdown",
   "metadata": {},
   "source": [
    "## Multiple dimensions\n",
    "\n",
    "Histograms can be multiple dimensional. Let's add a dimension to it."
   ]
  },
  {
   "cell_type": "code",
   "execution_count": null,
   "metadata": {},
   "outputs": [],
   "source": [
    "mplhep.hist2dplot(h)"
   ]
  },
  {
   "cell_type": "markdown",
   "metadata": {},
   "source": [
    "## Access Bins\n",
    "\n",
    "hist allows you to access the bins of your Hist by various ways. Besides the normal access by index, you can use locations (supported by boost-histogram), complex numbers, and the dictionary to access the bins."
   ]
  },
  {
   "cell_type": "code",
   "execution_count": null,
   "metadata": {},
   "outputs": [],
   "source": [
    "# Access by bin number\n",
    "h[3, 2]"
   ]
  },
  {
   "cell_type": "markdown",
   "metadata": {},
   "source": [
    "## Getting Density\n",
    "\n",
    "If you want to get the density of an existing histogram, .density() is capable to do it and will return you the density array without overflow and underflow bins.\n",
    "\n",
    "A histogram is a count, so it's an **integral over a density**. To obtain the density, one can devide by the area of the bin, this gives the \"average density\" in a bin."
   ]
  },
  {
   "cell_type": "code",
   "execution_count": null,
   "metadata": {},
   "outputs": [],
   "source": [
    "h.density()"
   ]
  },
  {
   "cell_type": "markdown",
   "metadata": {},
   "source": [
    "## Projecting axes\n",
    "\n",
    "We can also project onto a certain axis"
   ]
  },
  {
   "cell_type": "code",
   "execution_count": null,
   "metadata": {},
   "outputs": [],
   "source": [
    "hx = h.project(\"x\")"
   ]
  },
  {
   "cell_type": "code",
   "execution_count": null,
   "metadata": {},
   "outputs": [],
   "source": [
    "hx.plot1d()  # hx is now a 1D histogram"
   ]
  },
  {
   "cell_type": "markdown",
   "metadata": {},
   "source": [
    "## Accessing everything relevant\n",
    "\n",
    "Hist is transparent and let's us use many things"
   ]
  },
  {
   "cell_type": "code",
   "execution_count": null,
   "metadata": {},
   "outputs": [],
   "source": [
    "h.axes"
   ]
  },
  {
   "cell_type": "code",
   "execution_count": null,
   "metadata": {},
   "outputs": [],
   "source": [
    "h.axes['x']"
   ]
  },
  {
   "cell_type": "code",
   "execution_count": null,
   "metadata": {},
   "outputs": [],
   "source": [
    "h.axes['x'].edges"
   ]
  },
  {
   "cell_type": "code",
   "execution_count": null,
   "metadata": {},
   "outputs": [],
   "source": [
    "h.axes['x'].centers  # bin centers"
   ]
  },
  {
   "cell_type": "code",
   "execution_count": null,
   "metadata": {},
   "outputs": [],
   "source": [
    "h.axes['x'].widths  # bin widths"
   ]
  },
  {
   "cell_type": "markdown",
   "metadata": {},
   "source": [
    "## Arithmetics\n",
    "\n",
    "We can use the histograms to do math! We can multiply, add with each other or with scalars.\n",
    "\n",
    "We can find the ratio between two histograms by dividing them"
   ]
  },
  {
   "cell_type": "code",
   "execution_count": null,
   "metadata": {},
   "outputs": [],
   "source": [
    "ratio_large = hx * 10\n",
    "ratio_large.plot1d()"
   ]
  },
  {
   "cell_type": "markdown",
   "metadata": {},
   "source": [
    "## Weights\n",
    "\n",
    "Weights are an essential part in HEP histograms and hist fully supports weigths. We can simply give an array of weights when filling the histogram.\n",
    "\n",
    "We first need to specify the storage type to be of type `Weight` in order to make sure we keep track of the weigths."
   ]
  },
  {
   "cell_type": "code",
   "execution_count": null,
   "metadata": {},
   "outputs": [],
   "source": [
    "weight = np.random.normal(1., 0.1, size=nsamples)\n",
    "storage = hist.storage.Weight()\n",
    "h2d_weighted = hist.Hist(axis1, axis2, storage=storage).fill(x=array1, y=array2, weight=weight) # using names"
   ]
  },
  {
   "cell_type": "code",
   "execution_count": null,
   "metadata": {},
   "outputs": [],
   "source": [
    "h2d_weighted.plot2d()"
   ]
  },
  {
   "cell_type": "code",
   "execution_count": null,
   "metadata": {},
   "outputs": [],
   "source": [
    "h2d_weighted.variances()"
   ]
  }
 ],
 "metadata": {
  "kernelspec": {
   "display_name": "Python 3 (ipykernel)",
   "language": "python",
   "name": "python3"
  },
  "language_info": {
   "codemirror_mode": {
    "name": "ipython",
    "version": 3
   },
   "file_extension": ".py",
   "mimetype": "text/x-python",
   "name": "python",
   "nbconvert_exporter": "python",
   "pygments_lexer": "ipython3",
   "version": "3.11.11"
  }
 },
 "nbformat": 4,
 "nbformat_minor": 4
}

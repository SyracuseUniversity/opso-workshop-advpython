{
 "cells": [
  {
   "cell_type": "markdown",
   "metadata": {
    "pycharm": {
     "name": "#%% md\n"
    }
   },
   "source": [
    "\n",
    "# Histograms\n",
    "\n",
    "Histograms provide a neat way of visualizing data distribution. Morevoer, they reduce the data size by binning the data significantly: instead of storing each data point, that is N floats, we only need to store the bin content, which is a much smaller, and constant, number.\n",
    "\n",
    "For large data sets, histograms are often the way to go.\n",
    "\n",
    "While matplotlib provides a way to plot histograms, and numpy a way to bin data, they offer only basic functionality and do not help with other aspects like binning, axis labeling, etc.\n",
    "Furthermore, matplotlib does not provide a way to plot an **already binned histogram**. With large amounts of data, it is maybe a necessity to bin the data before plotting it.\n",
    "\n",
    "## hist\n",
    "\n",
    "`hist` is a library that provides a way to create and manipulate histograms, it is highly performant and offers a lot of functionality around histograms"
   ]
  },
  {
   "cell_type": "code",
   "metadata": {
    "pycharm": {
     "name": "#%%\n"
    },
    "ExecuteTime": {
     "end_time": "2024-12-10T02:08:47.573088Z",
     "start_time": "2024-12-10T02:08:47.568532Z"
    }
   },
   "source": [
    "import hist\n",
    "import mplhep\n",
    "import numpy as np"
   ],
   "outputs": [],
   "execution_count": 24
  },
  {
   "metadata": {
    "ExecuteTime": {
     "end_time": "2024-12-10T02:20:58.175253Z",
     "start_time": "2024-12-10T02:20:57.730734Z"
    }
   },
   "cell_type": "code",
   "source": [
    "nsamples = 10_000_000\n",
    "array1 = np.random.normal(0, 1, nsamples)\n",
    "array2 = np.random.normal(1, 3, nsamples)"
   ],
   "outputs": [],
   "execution_count": 55
  },
  {
   "metadata": {
    "ExecuteTime": {
     "end_time": "2024-12-10T02:20:58.616537Z",
     "start_time": "2024-12-10T02:20:58.178946Z"
    }
   },
   "cell_type": "code",
   "source": "bins, edges = np.histogramdd(np.stack([array1, array2], axis=-1), bins=6)",
   "outputs": [],
   "execution_count": 56
  },
  {
   "metadata": {
    "ExecuteTime": {
     "end_time": "2024-12-10T02:20:59.335391Z",
     "start_time": "2024-12-10T02:20:59.330687Z"
    }
   },
   "cell_type": "code",
   "source": "bins",
   "outputs": [
    {
     "data": {
      "text/plain": [
       "array([[0.000000e+00, 7.700000e+01, 1.438000e+03, 1.611000e+03,\n",
       "        1.840000e+02, 1.000000e+00],\n",
       "       [1.070000e+02, 1.846200e+04, 2.302850e+05, 2.546780e+05,\n",
       "        2.526200e+04, 1.930000e+02],\n",
       "       [1.013000e+03, 1.815950e+05, 2.257698e+06, 2.506923e+06,\n",
       "        2.508140e+05, 1.732000e+03],\n",
       "       [7.770000e+02, 1.402460e+05, 1.751799e+06, 1.941040e+06,\n",
       "        1.943490e+05, 1.390000e+03],\n",
       "       [4.200000e+01, 8.220000e+03, 1.030690e+05, 1.143820e+05,\n",
       "        1.171400e+04, 8.500000e+01],\n",
       "       [1.000000e+00, 3.200000e+01, 3.170000e+02, 4.280000e+02,\n",
       "        3.600000e+01, 0.000000e+00]])"
      ]
     },
     "execution_count": 57,
     "metadata": {},
     "output_type": "execute_result"
    }
   ],
   "execution_count": 57
  },
  {
   "metadata": {},
   "cell_type": "markdown",
   "source": "We cannot easily plot them. No uncertainty bars, no labels, the binning is not clear, etc."
  },
  {
   "metadata": {
    "ExecuteTime": {
     "end_time": "2024-12-10T02:21:00.582434Z",
     "start_time": "2024-12-10T02:21:00.579037Z"
    }
   },
   "cell_type": "code",
   "source": [
    "# Compose axis however you like; this is a 2D histogram\n",
    "axis1 = hist.axis.Regular(6, -5, 5, name='x')\n",
    "axis2 = hist.axis.Regular(6, -15, 20, name='y')\n",
    "h = hist.Hist(axis1, axis2)"
   ],
   "outputs": [],
   "execution_count": 58
  },
  {
   "metadata": {
    "ExecuteTime": {
     "end_time": "2024-12-10T02:21:03.214003Z",
     "start_time": "2024-12-10T02:21:03.130966Z"
    }
   },
   "cell_type": "code",
   "source": [
    "# Filling can be done with arrays, one per dimension\n",
    "h.fill(x=array1, y=array2)"
   ],
   "outputs": [
    {
     "data": {
      "text/plain": [
       "Hist(\n",
       "  Regular(6, -5, 5, name='x'),\n",
       "  Regular(6, -15, 20, name='y'),\n",
       "  storage=Double()) # Sum: 9999994.0 (10000000.0 with flow)"
      ],
      "text/html": [
       "<html>\n",
       "<div style=\"display:flex; align-items:center;\">\n",
       "<div style=\"width:290px;\">\n",
       "<svg xmlns=\"http://www.w3.org/2000/svg\" viewBox=\"-20 -270 290 290\">\n",
       "<text text-anchor=\"middle\" x=\"0\" y=\"13\" style=\"fill:currentColor;\">\n",
       "-5\n",
       "</text>\n",
       "<text text-anchor=\"middle\" x=\"250\" y=\"13\" style=\"fill:currentColor;\">\n",
       "5\n",
       "</text>\n",
       "<text text-anchor=\"middle\" x=\"-10\" y=\"0\" style=\"fill:currentColor;\">\n",
       "-15\n",
       "</text>\n",
       "<text text-anchor=\"middle\" x=\"-10\" y=\"-250\" style=\"fill:currentColor;\">\n",
       "20\n",
       "</text>\n",
       "<text text-anchor=\"middle\" x=\"125.0\" y=\"13\" style=\"fill:currentColor;\">\n",
       "x\n",
       "</text>\n",
       "<text text-anchor=\"middle\" x=\"-10\" y=\"-125.0\" transform=\"rotate(-90,-10,-125.0)\" style=\"fill:currentColor;\">\n",
       "y\n",
       "</text>\n",
       "<rect x=\"0.0\" y=\"-41.66666666666666\" width=\"41.667\" height=\"41.667\" opacity=\"3.5830979536569333e-07\" fill=\"currentColor\" stroke-width=\"0.1\"/>\n",
       "<rect x=\"41.66666666666665\" y=\"-41.66666666666666\" width=\"41.667\" height=\"41.667\" opacity=\"6.162928480289922e-05\" fill=\"currentColor\" stroke-width=\"0.1\"/>\n",
       "<rect x=\"83.33333333333331\" y=\"-41.66666666666666\" width=\"41.667\" height=\"41.667\" opacity=\"0.0005668460962685263\" fill=\"currentColor\" stroke-width=\"0.1\"/>\n",
       "<rect x=\"125.0\" y=\"-41.66666666666666\" width=\"41.667\" height=\"41.667\" opacity=\"0.0005639796179056013\" fill=\"currentColor\" stroke-width=\"0.1\"/>\n",
       "<rect x=\"166.66666666666666\" y=\"-41.66666666666666\" width=\"41.667\" height=\"41.667\" opacity=\"5.6254637872413784e-05\" fill=\"currentColor\" stroke-width=\"0.1\"/>\n",
       "<rect x=\"208.33333333333334\" y=\"-41.66666666666666\" width=\"41.667\" height=\"41.667\" opacity=\"1.4332391814627733e-06\" fill=\"currentColor\" stroke-width=\"0.1\"/>\n",
       "<rect x=\"0.0\" y=\"-83.33333333333331\" width=\"41.667\" height=\"41.667\" opacity=\"0.00011430082472165616\" fill=\"currentColor\" stroke-width=\"0.1\"/>\n",
       "<rect x=\"41.66666666666665\" y=\"-83.33333333333331\" width=\"41.667\" height=\"41.667\" opacity=\"0.012505370168058055\" fill=\"currentColor\" stroke-width=\"0.1\"/>\n",
       "<rect x=\"83.33333333333331\" y=\"-83.33333333333331\" width=\"41.667\" height=\"41.667\" opacity=\"0.11970377812597535\" fill=\"currentColor\" stroke-width=\"0.1\"/>\n",
       "<rect x=\"125.0\" y=\"-83.33333333333331\" width=\"41.667\" height=\"41.667\" opacity=\"0.11984925190289393\" fill=\"currentColor\" stroke-width=\"0.1\"/>\n",
       "<rect x=\"166.66666666666666\" y=\"-83.33333333333331\" width=\"41.667\" height=\"41.667\" opacity=\"0.01246344792200026\" fill=\"currentColor\" stroke-width=\"0.1\"/>\n",
       "<rect x=\"208.33333333333334\" y=\"-83.33333333333331\" width=\"41.667\" height=\"41.667\" opacity=\"0.00012075040103823865\" fill=\"currentColor\" stroke-width=\"0.1\"/>\n",
       "<rect x=\"0.0\" y=\"-125.0\" width=\"41.667\" height=\"41.667\" opacity=\"0.0009685113768734683\" fill=\"currentColor\" stroke-width=\"0.1\"/>\n",
       "<rect x=\"41.66666666666665\" y=\"-125.0\" width=\"41.667\" height=\"41.667\" opacity=\"0.10482388894402885\" fill=\"currentColor\" stroke-width=\"0.1\"/>\n",
       "<rect x=\"83.33333333333331\" y=\"-125.0\" width=\"41.667\" height=\"41.667\" opacity=\"1.0\" fill=\"currentColor\" stroke-width=\"0.1\"/>\n",
       "<rect x=\"125.0\" y=\"-125.0\" width=\"41.667\" height=\"41.667\" opacity=\"0.9999114974805454\" fill=\"currentColor\" stroke-width=\"0.1\"/>\n",
       "<rect x=\"166.66666666666666\" y=\"-125.0\" width=\"41.667\" height=\"41.667\" opacity=\"0.10516535817901225\" fill=\"currentColor\" stroke-width=\"0.1\"/>\n",
       "<rect x=\"208.33333333333334\" y=\"-125.0\" width=\"41.667\" height=\"41.667\" opacity=\"0.0009548956046495719\" fill=\"currentColor\" stroke-width=\"0.1\"/>\n",
       "<rect x=\"0.0\" y=\"-166.66666666666666\" width=\"41.667\" height=\"41.667\" opacity=\"0.00048658470210661154\" fill=\"currentColor\" stroke-width=\"0.1\"/>\n",
       "<rect x=\"41.66666666666665\" y=\"-166.66666666666666\" width=\"41.667\" height=\"41.667\" opacity=\"0.05086207545216014\" fill=\"currentColor\" stroke-width=\"0.1\"/>\n",
       "<rect x=\"83.33333333333331\" y=\"-166.66666666666666\" width=\"41.667\" height=\"41.667\" opacity=\"0.48817201450008113\" fill=\"currentColor\" stroke-width=\"0.1\"/>\n",
       "<rect x=\"125.0\" y=\"-166.66666666666666\" width=\"41.667\" height=\"41.667\" opacity=\"0.4881723728098769\" fill=\"currentColor\" stroke-width=\"0.1\"/>\n",
       "<rect x=\"166.66666666666666\" y=\"-166.66666666666666\" width=\"41.667\" height=\"41.667\" opacity=\"0.0511827627190124\" fill=\"currentColor\" stroke-width=\"0.1\"/>\n",
       "<rect x=\"208.33333333333334\" y=\"-166.66666666666666\" width=\"41.667\" height=\"41.667\" opacity=\"0.0004765520278363721\" fill=\"currentColor\" stroke-width=\"0.1\"/>\n",
       "<rect x=\"0.0\" y=\"-208.33333333333334\" width=\"41.667\" height=\"41.667\" opacity=\"1.0032674270239404e-05\" fill=\"currentColor\" stroke-width=\"0.1\"/>\n",
       "<rect x=\"41.66666666666665\" y=\"-208.33333333333334\" width=\"41.667\" height=\"41.667\" opacity=\"0.0012186116140387219\" fill=\"currentColor\" stroke-width=\"0.1\"/>\n",
       "<rect x=\"83.33333333333331\" y=\"-208.33333333333334\" width=\"41.667\" height=\"41.667\" opacity=\"0.011803799588732016\" fill=\"currentColor\" stroke-width=\"0.1\"/>\n",
       "<rect x=\"125.0\" y=\"-208.33333333333334\" width=\"41.667\" height=\"41.667\" opacity=\"0.011587022162535782\" fill=\"currentColor\" stroke-width=\"0.1\"/>\n",
       "<rect x=\"166.66666666666666\" y=\"-208.33333333333334\" width=\"41.667\" height=\"41.667\" opacity=\"0.0012623254090733352\" fill=\"currentColor\" stroke-width=\"0.1\"/>\n",
       "<rect x=\"208.33333333333334\" y=\"-208.33333333333334\" width=\"41.667\" height=\"41.667\" opacity=\"9.316054679508019e-06\" fill=\"currentColor\" stroke-width=\"0.1\"/>\n",
       "<rect x=\"0.0\" y=\"-250.0\" width=\"41.667\" height=\"41.667\" opacity=\"0.0\" fill=\"currentColor\" stroke-width=\"0.1\"/>\n",
       "<rect x=\"41.66666666666665\" y=\"-250.0\" width=\"41.667\" height=\"41.667\" opacity=\"1.7915489768284657e-06\" fill=\"currentColor\" stroke-width=\"0.1\"/>\n",
       "<rect x=\"83.33333333333331\" y=\"-250.0\" width=\"41.667\" height=\"41.667\" opacity=\"8.241125293410939e-06\" fill=\"currentColor\" stroke-width=\"0.1\"/>\n",
       "<rect x=\"125.0\" y=\"-250.0\" width=\"41.667\" height=\"41.667\" opacity=\"9.316054679508026e-06\" fill=\"currentColor\" stroke-width=\"0.1\"/>\n",
       "<rect x=\"166.66666666666666\" y=\"-250.0\" width=\"41.667\" height=\"41.667\" opacity=\"1.4332391814627714e-06\" fill=\"currentColor\" stroke-width=\"0.1\"/>\n",
       "<rect x=\"208.33333333333334\" y=\"-250.0\" width=\"41.667\" height=\"41.667\" opacity=\"0.0\" fill=\"currentColor\" stroke-width=\"0.1\"/>\n",
       "</svg>\n",
       "</div>\n",
       "<div style=\"flex=grow:1;\">\n",
       "Regular(6, -5, 5, name='x')<br/>\n",
       "Regular(6, -15, 20, name='y')<br/>\n",
       "<hr style=\"margin-top:.2em; margin-bottom:.2em;\"/>\n",
       "Double() Σ=9999994.0 <em>(10000000.0 with flow)</em>\n",
       "\n",
       "</div>\n",
       "</div>\n",
       "</html>"
      ]
     },
     "execution_count": 59,
     "metadata": {},
     "output_type": "execute_result"
    }
   ],
   "execution_count": 59
  },
  {
   "cell_type": "code",
   "metadata": {
    "pycharm": {
     "name": "#%%\n"
    },
    "ExecuteTime": {
     "end_time": "2024-12-10T02:09:14.540012Z",
     "start_time": "2024-12-10T02:09:14.533407Z"
    }
   },
   "source": [
    "# NumPy array view into histogram counts, no overflow bins\n",
    "counts = h.view()\n",
    "variances = h.variances()\n",
    "print(f\"counts = {counts}, variances = {variances}\")"
   ],
   "outputs": [
    {
     "name": "stdout",
     "output_type": "stream",
     "text": [
      "counts = [[3.000000e+00 3.290000e+02 2.597000e+03 1.246000e+03 2.600000e+01\n",
      "  0.000000e+00]\n",
      " [1.630000e+02 3.489700e+04 2.923430e+05 1.426910e+05 3.437000e+03\n",
      "  3.000000e+00]\n",
      " [1.579000e+03 3.347530e+05 2.789396e+06 1.362470e+06 3.285000e+04\n",
      "  2.300000e+01]\n",
      " [1.603000e+03 3.352460e+05 2.789468e+06 1.363004e+06 3.278100e+04\n",
      "  2.100000e+01]\n",
      " [1.570000e+02 3.511500e+04 2.925540e+05 1.435220e+05 3.411000e+03\n",
      "  2.000000e+00]\n",
      " [2.000000e+00 3.240000e+02 2.618000e+03 1.325000e+03 3.600000e+01\n",
      "  0.000000e+00]], variances = [[3.000000e+00 3.290000e+02 2.597000e+03 1.246000e+03 2.600000e+01\n",
      "  0.000000e+00]\n",
      " [1.630000e+02 3.489700e+04 2.923430e+05 1.426910e+05 3.437000e+03\n",
      "  3.000000e+00]\n",
      " [1.579000e+03 3.347530e+05 2.789396e+06 1.362470e+06 3.285000e+04\n",
      "  2.300000e+01]\n",
      " [1.603000e+03 3.352460e+05 2.789468e+06 1.363004e+06 3.278100e+04\n",
      "  2.100000e+01]\n",
      " [1.570000e+02 3.511500e+04 2.925540e+05 1.435220e+05 3.411000e+03\n",
      "  2.000000e+00]\n",
      " [2.000000e+00 3.240000e+02 2.618000e+03 1.325000e+03 3.600000e+01\n",
      "  0.000000e+00]]\n"
     ]
    }
   ],
   "execution_count": 30
  },
  {
   "metadata": {
    "ExecuteTime": {
     "end_time": "2024-12-10T02:09:17.280646Z",
     "start_time": "2024-12-10T02:09:17.080097Z"
    }
   },
   "cell_type": "code",
   "source": [
    "# Let's plot it\n",
    "h.plot2d()"
   ],
   "outputs": [
    {
     "data": {
      "text/plain": [
       "ColormeshArtists(pcolormesh=<matplotlib.collections.QuadMesh object at 0x74bf44dbb550>, cbar=<matplotlib.colorbar.Colorbar object at 0x74bf45343f50>, text=[])"
      ]
     },
     "execution_count": 31,
     "metadata": {},
     "output_type": "execute_result"
    },
    {
     "data": {
      "text/plain": [
       "<Figure size 684.8x480 with 2 Axes>"
      ],
      "image/png": "[encoded data removed]"
     },
     "metadata": {},
     "output_type": "display_data"
    }
   ],
   "execution_count": 31
  },
  {
   "metadata": {},
   "cell_type": "code",
   "outputs": [],
   "execution_count": null,
   "source": ""
  },
  {
   "cell_type": "markdown",
   "metadata": {
    "pycharm": {
     "name": "#%% md\n"
    }
   },
   "source": [
    "## Axes\n",
    "\n",
    "A cental part of a histogram are the axes: They define the binning and other treats of the axis.\n",
    "\n",
    "A Hist can have multiple axes of different types.\n",
    "\n",
    "All axes are described [here](https://hist.readthedocs.io/en/latest/user-guide/axes.html#axes).\n",
    "\n",
    "\n",
    "\n",
    "The most important types are\n",
    "\n",
    "\n",
    "### Regular\n",
    "\n",
    "This is an axis with lower, upper limits, **regularly** split into n bins.\n",
    "\n",
    "```\n",
    "axis_reg = hist.axis.Regular(nbins, lower, upper, name=name)\n",
    "```\n",
    "\n",
    "### Variable\n",
    "\n",
    "A variable axis allows to set the bin edges arbitrarily using an array-like object.mro\n",
    "```\n",
    "axis_var = hist.axis.Variable([0, 0.5, 3.1, 3.4], name=\"eta\")\n",
    "```\n",
    "\n",
    "## Axis Name\n",
    "\n",
    "An axis has a name, which can be used as the identifier\n",
    "when working with the histogram (instead of using plain integer indexes) and optionally a label, which can be used for plotting."
   ]
  },
  {
   "cell_type": "code",
   "metadata": {
    "ExecuteTime": {
     "end_time": "2024-12-10T02:11:36.413700Z",
     "start_time": "2024-12-10T02:11:36.410196Z"
    }
   },
   "source": "axisreg = hist.axis.Regular(bins=50, start=-10, stop=10, name=\"length\", label=\"Length [cm]\")",
   "outputs": [],
   "execution_count": 32
  },
  {
   "cell_type": "markdown",
   "metadata": {},
   "source": [
    "To create a histogram, we can pass one or multiple axes to a histogram"
   ]
  },
  {
   "cell_type": "code",
   "metadata": {
    "pycharm": {
     "name": "#%%\n"
    },
    "ExecuteTime": {
     "end_time": "2024-12-10T02:11:40.876116Z",
     "start_time": "2024-12-10T02:11:40.872598Z"
    }
   },
   "source": "data_h = hist.Hist(axisreg)",
   "outputs": [],
   "execution_count": 33
  },
  {
   "cell_type": "code",
   "metadata": {
    "ExecuteTime": {
     "end_time": "2024-12-10T02:12:06.694793Z",
     "start_time": "2024-12-10T02:12:06.650944Z"
    }
   },
   "source": "data_h.fill(length=array1)",
   "outputs": [
    {
     "data": {
      "text/plain": [
       "Hist(Regular(50, -10, 10, name='length', label='Length [cm]'), storage=Double()) # Sum: 10000000.0"
      ],
      "text/html": [
       "<html>\n",
       "<div style=\"display:flex; align-items:center;\">\n",
       "<div style=\"width:290px;\">\n",
       "<svg xmlns=\"http://www.w3.org/2000/svg\" viewBox=\"-10 -105 270 120\">\n",
       "<line x1=\"-5\" y1=\"0\" x2=\"255\" y2=\"0\" style=\"fill:none;stroke-width:2;stroke:currentColor\"/>\n",
       "<text text-anchor=\"middle\" x=\"0\" y=\"15\" style=\"fill:currentColor;\">\n",
       "-10\n",
       "</text>\n",
       "<text text-anchor=\"middle\" x=\"250\" y=\"15\" style=\"fill:currentColor;\">\n",
       "10\n",
       "</text>\n",
       "<text text-anchor=\"middle\" x=\"125.0\" y=\"15\" style=\"fill:currentColor;\">\n",
       "Length [cm]\n",
       "</text>\n",
       "<polyline points=\"  0,0   0,-0   5,-0   5,-0  10,-0  10,-0  15,-0  15,-0  20,-0  20,-0  25,-0  25,-0  30,-0  30,-0  35,-0  35,-0  40,-0  40,-0  45,-0  45,-0  50,-0  50,-0  55,-0  55,-6.43e-05  60,-6.43e-05  60,-0.000386  65,-0.000386  65,-0.00302  70,-0.00302  70,-0.0172  75,-0.0172  75,-0.0823  80,-0.0823  80,-0.335  85,-0.335  85,-1.19  90,-1.19  90,-3.63  95,-3.63  95,-9.33 100,-9.33 100,-20.7 105,-20.7 105,-38.9 110,-38.9 110,-62.3 115,-62.3 115,-85.3 120,-85.3 120,-100 125,-100 125,-99.9 130,-99.9 130,-85.3 135,-85.3 135,-62.3 140,-62.3 140,-38.8 145,-38.8 145,-20.7 150,-20.7 150,-9.38 155,-9.38 155,-3.64 160,-3.64 160,-1.21 165,-1.21 165,-0.342 170,-0.342 170,-0.082 175,-0.082 175,-0.0176 180,-0.0176 180,-0.00257 185,-0.00257 185,-0.000772 190,-0.000772 190,-6.43e-05 195,-6.43e-05 195,-0 200,-0 200,-0 205,-0 205,-0 210,-0 210,-0 215,-0 215,-0 220,-0 220,-0 225,-0 225,-0 230,-0 230,-0 235,-0 235,-0 240,-0 240,-0 245,-0 245,-0 250,-0 250,0\" style=\"fill:none; stroke:currentColor;\"/>\n",
       "</svg>\n",
       "</div>\n",
       "<div style=\"flex=grow:1;\">\n",
       "Regular(50, -10, 10, name='length', label='Length [cm]')<br/>\n",
       "<hr style=\"margin-top:.2em; margin-bottom:.2em;\"/>\n",
       "Double() Σ=10000000.0\n",
       "\n",
       "</div>\n",
       "</div>\n",
       "</html>"
      ]
     },
     "execution_count": 34,
     "metadata": {},
     "output_type": "execute_result"
    }
   ],
   "execution_count": 34
  },
  {
   "cell_type": "code",
   "metadata": {
    "ExecuteTime": {
     "end_time": "2024-12-10T02:12:16.696179Z",
     "start_time": "2024-12-10T02:12:16.632356Z"
    }
   },
   "source": "data_h2 = hist.Hist(axisreg).fill(array1)  # we can also chain the commands",
   "outputs": [],
   "execution_count": 35
  },
  {
   "cell_type": "markdown",
   "metadata": {},
   "source": [
    "### Plotting with mplhep\n",
    "\n",
    "As matplotlib doesn't offer a native way for plotting histograms, we can use the `hist` methods. Another way with more options is the `mplhep` package, which is (like all plotting shown here) a high-level interface to matplotlib.\n",
    "In short, mplhep and hist work seamless together:"
   ]
  },
  {
   "cell_type": "code",
   "metadata": {
    "ExecuteTime": {
     "end_time": "2024-12-10T02:13:42.187168Z",
     "start_time": "2024-12-10T02:13:42.043929Z"
    }
   },
   "source": [
    "mplhep.histplot(data_h)"
   ],
   "outputs": [
    {
     "data": {
      "text/plain": [
       "[StairsArtists(stairs=<matplotlib.patches.StepPatch object at 0x74bf44db0510>, errorbar=<ErrorbarContainer object of 3 artists>, legend_artist=<ErrorbarContainer object of 3 artists>)]"
      ]
     },
     "execution_count": 37,
     "metadata": {},
     "output_type": "execute_result"
    },
    {
     "data": {
      "text/plain": [
       "<Figure size 640x480 with 1 Axes>"
      ],
      "image/png": "[encoded data removed]"
     },
     "metadata": {},
     "output_type": "display_data"
    }
   ],
   "execution_count": 37
  },
  {
   "cell_type": "markdown",
   "metadata": {},
   "source": [
    "### Plotting with hist\n",
    "\n",
    "\n",
    "As we've seen already, `hist` itself provides also plotting functionality"
   ]
  },
  {
   "cell_type": "code",
   "metadata": {
    "ExecuteTime": {
     "end_time": "2024-12-10T02:14:05.217167Z",
     "start_time": "2024-12-10T02:14:05.057631Z"
    }
   },
   "source": [
    "data_h.plot1d()"
   ],
   "outputs": [
    {
     "data": {
      "text/plain": [
       "[StairsArtists(stairs=<matplotlib.patches.StepPatch object at 0x74bf447849d0>, errorbar=<ErrorbarContainer object of 3 artists>, legend_artist=<ErrorbarContainer object of 3 artists>)]"
      ]
     },
     "execution_count": 38,
     "metadata": {},
     "output_type": "execute_result"
    },
    {
     "data": {
      "text/plain": [
       "<Figure size 640x480 with 1 Axes>"
      ],
      "image/png": "[encoded data removed]"
     },
     "metadata": {},
     "output_type": "display_data"
    }
   ],
   "execution_count": 38
  },
  {
   "cell_type": "markdown",
   "metadata": {},
   "source": [
    "## Multiple dimensions\n",
    "\n",
    "Histograms can be multiple dimensional. Let's add a dimension to it."
   ]
  },
  {
   "cell_type": "code",
   "metadata": {
    "ExecuteTime": {
     "end_time": "2024-12-10T02:14:46.253274Z",
     "start_time": "2024-12-10T02:14:46.045201Z"
    }
   },
   "source": "mplhep.hist2dplot(h)",
   "outputs": [
    {
     "data": {
      "text/plain": [
       "ColormeshArtists(pcolormesh=<matplotlib.collections.QuadMesh object at 0x74bf448bb490>, cbar=<matplotlib.colorbar.Colorbar object at 0x74bf448bbf50>, text=[])"
      ]
     },
     "execution_count": 39,
     "metadata": {},
     "output_type": "execute_result"
    },
    {
     "data": {
      "text/plain": [
       "<Figure size 684.8x480 with 2 Axes>"
      ],
      "image/png": "[encoded data removed]"
     },
     "metadata": {},
     "output_type": "display_data"
    }
   ],
   "execution_count": 39
  },
  {
   "cell_type": "markdown",
   "metadata": {},
   "source": [
    "## Access Bins\n",
    "\n",
    "hist allows you to access the bins of your Hist by various ways. Besides the normal access by index, you can use locations (supported by boost-histogram), complex numbers, and the dictionary to access the bins."
   ]
  },
  {
   "cell_type": "code",
   "metadata": {
    "ExecuteTime": {
     "end_time": "2024-12-10T02:15:10.951281Z",
     "start_time": "2024-12-10T02:15:10.941257Z"
    }
   },
   "source": [
    "# Access by bin number\n",
    "h[3, 2]"
   ],
   "outputs": [
    {
     "data": {
      "text/plain": [
       "2789468.0"
      ]
     },
     "execution_count": 41,
     "metadata": {},
     "output_type": "execute_result"
    }
   ],
   "execution_count": 41
  },
  {
   "cell_type": "markdown",
   "metadata": {},
   "source": [
    "## Getting Density\n",
    "\n",
    "If you want to get the density of an existing histogram, .density() is capable to do it and will return you the density array without overflow and underflow bins.\n",
    "\n",
    "A histogram is a count, so it's an **integral over a density**. To obtain the density, one can devide by the area of the bin, this gives the \"average density\" in a bin."
   ]
  },
  {
   "cell_type": "code",
   "metadata": {
    "ExecuteTime": {
     "end_time": "2024-12-10T02:15:28.189799Z",
     "start_time": "2024-12-10T02:15:28.184108Z"
    }
   },
   "source": "h.density()",
   "outputs": [
    {
     "data": {
      "text/plain": [
       "array([[3.08571583e-08, 3.38400169e-06, 2.67120134e-05, 1.28160064e-05,\n",
       "        2.67428705e-07, 0.00000000e+00],\n",
       "       [1.67657227e-06, 3.58940751e-04, 3.00695807e-03, 1.46767959e-03,\n",
       "        3.53520177e-05, 3.08571583e-08],\n",
       "       [1.62411510e-05, 3.44317544e-03, 2.86909446e-02, 1.40139841e-02,\n",
       "        3.37885883e-04, 2.36571547e-07],\n",
       "       [1.64880082e-05, 3.44824630e-03, 2.86916852e-02, 1.40194767e-02,\n",
       "        3.37176169e-04, 2.16000108e-07],\n",
       "       [1.61485795e-06, 3.61183038e-04, 3.00912836e-03, 1.47622702e-03,\n",
       "        3.50845890e-05, 2.05714389e-08],\n",
       "       [2.05714389e-08, 3.33257309e-06, 2.69280135e-05, 1.36285782e-05,\n",
       "        3.70285899e-07, 0.00000000e+00]])"
      ]
     },
     "execution_count": 42,
     "metadata": {},
     "output_type": "execute_result"
    }
   ],
   "execution_count": 42
  },
  {
   "cell_type": "markdown",
   "metadata": {},
   "source": [
    "## Projecting axes\n",
    "\n",
    "We can also project onto a certain axis"
   ]
  },
  {
   "cell_type": "code",
   "metadata": {
    "ExecuteTime": {
     "end_time": "2024-12-10T02:15:45.412111Z",
     "start_time": "2024-12-10T02:15:45.409376Z"
    }
   },
   "source": "hx = h.project(\"x\")",
   "outputs": [],
   "execution_count": 44
  },
  {
   "metadata": {
    "ExecuteTime": {
     "end_time": "2024-12-10T02:15:58.442743Z",
     "start_time": "2024-12-10T02:15:58.343691Z"
    }
   },
   "cell_type": "code",
   "source": "hx.plot1d()  # hx is now a 1D histogram",
   "outputs": [
    {
     "data": {
      "text/plain": [
       "[StairsArtists(stairs=<matplotlib.patches.StepPatch object at 0x74bf44770510>, errorbar=<ErrorbarContainer object of 3 artists>, legend_artist=<ErrorbarContainer object of 3 artists>)]"
      ]
     },
     "execution_count": 45,
     "metadata": {},
     "output_type": "execute_result"
    },
    {
     "data": {
      "text/plain": [
       "<Figure size 640x480 with 1 Axes>"
      ],
      "image/png": "[encoded data removed]"
     },
     "metadata": {},
     "output_type": "display_data"
    }
   ],
   "execution_count": 45
  },
  {
   "cell_type": "markdown",
   "metadata": {},
   "source": [
    "## Accessing everything relevant\n",
    "\n",
    "Hist is transparent and let's us use many things"
   ]
  },
  {
   "cell_type": "code",
   "metadata": {
    "ExecuteTime": {
     "end_time": "2024-12-10T02:17:16.704659Z",
     "start_time": "2024-12-10T02:17:16.700626Z"
    }
   },
   "source": "h.axes",
   "outputs": [
    {
     "data": {
      "text/plain": [
       "(Regular(6, -5, 5, name='x'), Regular(6, -15, 20, name='y'))"
      ]
     },
     "execution_count": 46,
     "metadata": {},
     "output_type": "execute_result"
    }
   ],
   "execution_count": 46
  },
  {
   "cell_type": "code",
   "metadata": {
    "ExecuteTime": {
     "end_time": "2024-12-10T02:17:17.062748Z",
     "start_time": "2024-12-10T02:17:17.057596Z"
    }
   },
   "source": "h.axes['x']",
   "outputs": [
    {
     "data": {
      "text/plain": [
       "Regular(6, -5, 5, name='x')"
      ]
     },
     "execution_count": 47,
     "metadata": {},
     "output_type": "execute_result"
    }
   ],
   "execution_count": 47
  },
  {
   "cell_type": "code",
   "metadata": {
    "ExecuteTime": {
     "end_time": "2024-12-10T02:17:17.724743Z",
     "start_time": "2024-12-10T02:17:17.720628Z"
    }
   },
   "source": "h.axes['x'].edges",
   "outputs": [
    {
     "data": {
      "text/plain": [
       "array([-5.        , -3.33333333, -1.66666667,  0.        ,  1.66666667,\n",
       "        3.33333333,  5.        ])"
      ]
     },
     "execution_count": 48,
     "metadata": {},
     "output_type": "execute_result"
    }
   ],
   "execution_count": 48
  },
  {
   "cell_type": "code",
   "metadata": {
    "ExecuteTime": {
     "end_time": "2024-12-10T02:17:18.897982Z",
     "start_time": "2024-12-10T02:17:18.891888Z"
    }
   },
   "source": "h.axes['x'].centers  # bin centers",
   "outputs": [
    {
     "data": {
      "text/plain": [
       "array([-4.16666667, -2.5       , -0.83333333,  0.83333333,  2.5       ,\n",
       "        4.16666667])"
      ]
     },
     "execution_count": 49,
     "metadata": {},
     "output_type": "execute_result"
    }
   ],
   "execution_count": 49
  },
  {
   "cell_type": "code",
   "metadata": {
    "ExecuteTime": {
     "end_time": "2024-12-10T02:17:20.882076Z",
     "start_time": "2024-12-10T02:17:20.877178Z"
    }
   },
   "source": "h.axes['x'].widths  # bin widths",
   "outputs": [
    {
     "data": {
      "text/plain": [
       "array([1.66666667, 1.66666667, 1.66666667, 1.66666667, 1.66666667,\n",
       "       1.66666667])"
      ]
     },
     "execution_count": 50,
     "metadata": {},
     "output_type": "execute_result"
    }
   ],
   "execution_count": 50
  },
  {
   "cell_type": "markdown",
   "metadata": {},
   "source": [
    "## Arithmetics\n",
    "\n",
    "We can use the histograms to do math! We can multiply, add with each other or with scalars.\n",
    "\n",
    "We can find the ratio between two histograms by dividing them"
   ]
  },
  {
   "cell_type": "code",
   "metadata": {
    "ExecuteTime": {
     "end_time": "2024-12-10T02:18:40.761666Z",
     "start_time": "2024-12-10T02:18:40.668932Z"
    }
   },
   "source": [
    "ratio_large = hx * 10\n",
    "ratio_large.plot1d()"
   ],
   "outputs": [
    {
     "data": {
      "text/plain": [
       "[StairsArtists(stairs=<matplotlib.patches.StepPatch object at 0x74bf449d9d50>, errorbar=None, legend_artist=None)]"
      ]
     },
     "execution_count": 51,
     "metadata": {},
     "output_type": "execute_result"
    },
    {
     "data": {
      "text/plain": [
       "<Figure size 640x480 with 1 Axes>"
      ],
      "image/png": "[encoded data removed]"
     },
     "metadata": {},
     "output_type": "display_data"
    }
   ],
   "execution_count": 51
  },
  {
   "cell_type": "markdown",
   "metadata": {},
   "source": [
    "## Weights\n",
    "\n",
    "Weights are an essential part in HEP histograms and hist fully supports weigths. We can simply give an array of weights when filling the histogram.\n",
    "\n",
    "We first need to specify the storage type to be of type `Weight` in order to make sure we keep track of the weigths."
   ]
  },
  {
   "cell_type": "code",
   "metadata": {
    "ExecuteTime": {
     "end_time": "2024-12-10T02:21:09.481953Z",
     "start_time": "2024-12-10T02:21:09.201721Z"
    }
   },
   "source": [
    "weight = np.random.normal(1., 0.1, size=nsamples)\n",
    "storage = hist.storage.Weight()\n",
    "h2d_weighted = hist.Hist(axis1, axis2, storage=storage).fill(x=array1, y=array2, weight=weight) # using names"
   ],
   "outputs": [],
   "execution_count": 60
  },
  {
   "cell_type": "code",
   "metadata": {
    "ExecuteTime": {
     "end_time": "2024-12-10T02:21:11.441528Z",
     "start_time": "2024-12-10T02:21:11.214937Z"
    }
   },
   "source": "h2d_weighted.plot2d()",
   "outputs": [
    {
     "data": {
      "text/plain": [
       "ColormeshArtists(pcolormesh=<matplotlib.collections.QuadMesh object at 0x74bf446ee1d0>, cbar=<matplotlib.colorbar.Colorbar object at 0x74bf47f23e90>, text=[])"
      ]
     },
     "execution_count": 61,
     "metadata": {},
     "output_type": "execute_result"
    },
    {
     "data": {
      "text/plain": [
       "<Figure size 684.8x480 with 2 Axes>"
      ],
      "image/png": "[encoded data removed]"
     },
     "metadata": {},
     "output_type": "display_data"
    }
   ],
   "execution_count": 61
  },
  {
   "cell_type": "code",
   "metadata": {
    "ExecuteTime": {
     "end_time": "2024-12-10T02:21:21.485229Z",
     "start_time": "2024-12-10T02:21:21.481277Z"
    }
   },
   "source": "h2d_weighted.variances()",
   "outputs": [
    {
     "data": {
      "text/plain": [
       "array([[8.70547725e-01, 3.21734402e+02, 2.73985666e+03, 1.38211627e+03,\n",
       "        2.80868720e+01, 0.00000000e+00],\n",
       "       [1.73164481e+02, 3.52006551e+04, 2.95471022e+05, 1.43314091e+05,\n",
       "        3.41630651e+03, 4.25983967e+00],\n",
       "       [1.59955400e+03, 3.37191586e+05, 2.81861117e+06, 1.37599982e+06,\n",
       "        3.32480641e+04, 2.00893702e+01],\n",
       "       [1.59175888e+03, 3.37825638e+05, 2.81854585e+06, 1.37602947e+06,\n",
       "        3.26934615e+04, 2.47851985e+01],\n",
       "       [1.55311510e+02, 3.50655947e+04, 2.96460739e+05, 1.44244352e+05,\n",
       "        3.57774960e+03, 3.74202413e+00],\n",
       "       [4.36764475e+00, 3.40338945e+02, 2.68505932e+03, 1.34811792e+03,\n",
       "        2.69328289e+01, 0.00000000e+00]])"
      ]
     },
     "execution_count": 63,
     "metadata": {},
     "output_type": "execute_result"
    }
   ],
   "execution_count": 63
  },
  {
   "cell_type": "markdown",
   "metadata": {},
   "source": [
    "**Exercise**: implement a function that calculates a weighted chi2 using two histograms."
   ]
  },
  {
   "cell_type": "code",
   "execution_count": null,
   "metadata": {},
   "outputs": [],
   "source": []
  }
 ],
 "metadata": {
  "kernelspec": {
   "display_name": "Python 3 (ipykernel)",
   "language": "python",
   "name": "python3"
  },
  "language_info": {
   "codemirror_mode": {
    "name": "ipython",
    "version": 3
   },
   "file_extension": ".py",
   "mimetype": "text/x-python",
   "name": "python",
   "nbconvert_exporter": "python",
   "pygments_lexer": "ipython3",
   "version": "3.9.7"
  }
 },
 "nbformat": 4,
 "nbformat_minor": 1
}

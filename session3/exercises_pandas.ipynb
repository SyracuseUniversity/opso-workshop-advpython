{
 "cells": [
  {
   "metadata": {},
   "cell_type": "markdown",
   "source": [
    "# Exercises Pandas\n",
    "\n"
   ],
   "id": "44d63258f66a1a4a"
  },
  {
   "metadata": {
    "ExecuteTime": {
     "end_time": "2024-12-12T17:19:17.660702Z",
     "start_time": "2024-12-12T17:19:17.654947Z"
    }
   },
   "cell_type": "code",
   "source": [
    "import pandas as pd\n",
    "import numpy as np"
   ],
   "id": "14eddf894a02f3f3",
   "outputs": [],
   "execution_count": 2
  },
  {
   "metadata": {
    "ExecuteTime": {
     "end_time": "2024-12-12T17:19:16.715608Z",
     "start_time": "2024-12-12T17:19:16.710771Z"
    }
   },
   "cell_type": "code",
   "source": [
    "area = pd.Series({'California': 423967, 'Texas': 695662,\n",
    "                  'New York': 141297, 'Florida': 170312,\n",
    "                  'Illinois': 149995})\n",
    "pop = pd.Series({'California': 38332521, 'Texas': 26448193,\n",
    "                 'New York': 19651127, 'Florida': 19552860,\n",
    "                 'Illinois': 12882135})\n",
    "data = pd.DataFrame({'area':area, 'pop':pop})"
   ],
   "id": "dda0bf713171b406",
   "outputs": [],
   "execution_count": 1
  },
  {
   "metadata": {},
   "cell_type": "markdown",
   "source": [
    "## Execrise 1:\n",
    "\n",
    "1. Get the column names of the data DataFrame.\n",
    "2. Retrieve the area column of the data DataFrame. What type of object is this? What happens if you don't use a string but a list of a single string? Does it make sense to you?\n",
    "3. Select the States with populations greater than 20 million. Use two different ways to do this.\n",
    "4. Add a column that contains a boolean value if a state is considered \"large\" by having an area greater than 200,000 (arbitrary definition). Use two different ways to do this (`large1` and `large2`).\n"
   ],
   "id": "b2231c401a4d41fb"
  }
 ],
 "metadata": {
  "kernelspec": {
   "display_name": "Python 3",
   "language": "python",
   "name": "python3"
  },
  "language_info": {
   "codemirror_mode": {
    "name": "ipython",
    "version": 2
   },
   "file_extension": ".py",
   "mimetype": "text/x-python",
   "name": "python",
   "nbconvert_exporter": "python",
   "pygments_lexer": "ipython2",
   "version": "2.7.6"
  }
 },
 "nbformat": 4,
 "nbformat_minor": 5
}

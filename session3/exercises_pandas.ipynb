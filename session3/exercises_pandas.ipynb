{
 "cells": [
  {
   "cell_type": "markdown",
   "id": "0",
   "metadata": {},
   "source": [
    "# Exercises Pandas\n",
    "\n"
   ]
  },
  {
   "cell_type": "code",
   "execution_count": null,
   "id": "1",
   "metadata": {},
   "outputs": [],
   "source": [
    "import pandas as pd\n",
    "import numpy as np\n",
    "import seaborn as sns"
   ]
  },
  {
   "cell_type": "code",
   "execution_count": null,
   "id": "2",
   "metadata": {},
   "outputs": [],
   "source": [
    "area = pd.Series({'California': 423967, 'Texas': 695662,\n",
    "                  'New York': 141297, 'Florida': 170312,\n",
    "                  'Illinois': 149995})\n",
    "pop = pd.Series({'California': 38332521, 'Texas': 26448193,\n",
    "                 'New York': 19651127, 'Florida': 19552860,\n",
    "                 'Illinois': 12882135})\n",
    "data = pd.DataFrame({'area':area, 'pop':pop})"
   ]
  },
  {
   "cell_type": "markdown",
   "id": "3",
   "metadata": {},
   "source": [
    "## Exercise 1:\n",
    "\n",
    "1. Get the column names of the data DataFrame.\n",
    "2. Retrieve the area column of the data DataFrame. What type of object is this? What happens if you don't use a string but a list of a single string? Does it make sense to you?\n",
    "3. Select the States with populations greater than 20 million. Use two different ways to do this.\n",
    "4. Add a column that contains a boolean value if a state is considered \"large\" by having an area greater than 200,000 (arbitrary definition). Use two different ways to do this (`large1` and `large2`).\n"
   ]
  },
  {
   "cell_type": "code",
   "execution_count": null,
   "id": "4",
   "metadata": {},
   "outputs": [],
   "source": []
  },
  {
   "cell_type": "markdown",
   "id": "5",
   "metadata": {},
   "source": [
    "## Exercise 2\n",
    "\n",
    "1. Set the matplotlib style to \"seaborn-whitegrid\".\n",
    "2. Plot the petal length and width of the iris dataset for the three different species, use different markers and colors. Add labels to the x and y axis and a legend."
   ]
  },
  {
   "cell_type": "code",
   "execution_count": null,
   "id": "6",
   "metadata": {},
   "outputs": [],
   "source": [
    "# Load some data\n",
    "df = sns.load_dataset('iris')"
   ]
  },
  {
   "cell_type": "code",
   "execution_count": null,
   "id": "7",
   "metadata": {},
   "outputs": [],
   "source": []
  },
  {
   "cell_type": "markdown",
   "id": "8",
   "metadata": {},
   "source": [
    "## Exercise 3\n",
    "\n",
    "Make a histogram of the sepal length of the iris dataset for the three different species. Use 20 bins and add a legend.\n",
    "To overlay the histograms, make sure to set the transparency (`alpha`) to 0.5. For a better comparison, use the same range for all histograms and `density=True`."
   ]
  }
 ],
 "metadata": {
  "language_info": {
   "codemirror_mode": {
    "name": "ipython"
   },
   "file_extension": ".py",
   "mimetype": "text/x-python",
   "name": "python",
   "nbconvert_exporter": "python"
  }
 },
 "nbformat": 4,
 "nbformat_minor": 5
}

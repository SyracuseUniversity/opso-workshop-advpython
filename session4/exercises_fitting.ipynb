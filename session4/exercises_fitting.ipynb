{
 "cells": [
  {
   "cell_type": "markdown",
   "id": "0",
   "metadata": {},
   "source": [
    "# Exercises curve fitting\n",
    "\n"
   ]
  },
  {
   "cell_type": "code",
   "execution_count": null,
   "id": "1",
   "metadata": {},
   "outputs": [],
   "source": [
    "import numpy as np\n",
    "import matplotlib.pyplot as plt\n",
    "from scipy.optimize import curve_fit\n",
    "import zfit"
   ]
  },
  {
   "cell_type": "markdown",
   "id": "2",
   "metadata": {},
   "source": [
    "# Exercise 1\n",
    "\n",
    "Fit the function\n",
    "\n",
    "$$\n",
    "V = 4 \\varepsilon \\left( \\left( \\sigma/r \\right)^{12} - \\left( \\sigma/r \\right)^6 \\right)\n",
    "$$\n",
    "\n",
    "to the data.\n",
    "\n",
    "Hint: don't be afraid to implement the function. Just think of it to be a mathematical function."
   ]
  },
  {
   "cell_type": "code",
   "execution_count": null,
   "id": "3",
   "metadata": {},
   "outputs": [],
   "source": [
    "xdata = np.array([2.875, 3.0, 3.125, 3.25, 3.375, 3.5, 3.75, 4.0, 4.5, 5.0, 6.0])\n",
    "ydata = np.array([0.35334378061169025, -2.7260131253801405, -4.102738968283382, -4.557042640311599, -4.537519193684069, -4.296388508321034, -3.6304745046204117, -3.0205368595885536, -2.1929538006724814, -1.7245616790238782, -1.2500789753171557])\n"
   ]
  },
  {
   "cell_type": "code",
   "execution_count": null,
   "id": "4",
   "metadata": {},
   "outputs": [],
   "source": [
    "#def fitfunc(...):\n",
    "#    pass\n",
    "\n"
   ]
  },
  {
   "cell_type": "code",
   "execution_count": null,
   "id": "5",
   "metadata": {},
   "outputs": [],
   "source": [
    "# uncomment below to test the outputs\n",
    "# resultp1 = parameters[0]\n",
    "# resultp2 = parameters[1]\n",
    "#\n",
    "# sigma_p1 = np.sqrt(covariance[0, 0])\n",
    "# sigma_p2 = np.sqrt(covariance[1, 1])\n",
    "# print(f'The value of param1 is {resultp1:.3f} +- {sigma_p1 :.3f}')\n",
    "# print(f'The value of param2 is {resultp2:.3f} +- {sigma_p2 :.3f}')\n",
    "#\n",
    "# yfitted = fitfunc(xdata, resultp1, resultp2)\n",
    "#\n",
    "# plt.figure()\n",
    "# plt.plot(xdata, ydata, 'o', label='data')\n",
    "# plt.plot(xdata, yfitted, '-', label='function')\n",
    "# plt.xlabel('x')\n",
    "# plt.ylabel('y')\n",
    "# plt.legend()"
   ]
  },
  {
   "cell_type": "code",
   "execution_count": null,
   "id": "6",
   "metadata": {},
   "outputs": [],
   "source": [
    "# SOLUTION FOR FUNCTION AND FIT\n",
    "def fitfunc(x, param1, param2):\n",
    "    V = 4 * param1 * ((param2 / x) ** 12 - (param2 / x) ** 6)\n",
    "    return V"
   ]
  },
  {
   "cell_type": "code",
   "execution_count": null,
   "id": "7",
   "metadata": {},
   "outputs": [],
   "source": [
    "parameters, covariance = curve_fit(fitfunc, xdata, ydata)"
   ]
  },
  {
   "cell_type": "markdown",
   "id": "8",
   "metadata": {},
   "source": [
    "# TODO add another exercise, a fit with zfit?"
   ]
  },
  {
   "cell_type": "code",
   "execution_count": null,
   "id": "9",
   "metadata": {},
   "outputs": [],
   "source": []
  }
 ],
 "metadata": {
  "kernelspec": {
   "display_name": "Python 3 (ipykernel)",
   "language": "python",
   "name": "python3"
  },
  "language_info": {
   "codemirror_mode": {
    "name": "ipython",
    "version": 3
   },
   "file_extension": ".py",
   "mimetype": "text/x-python",
   "name": "python",
   "nbconvert_exporter": "python",
   "pygments_lexer": "ipython3",
   "version": "3.11.11"
  }
 },
 "nbformat": 4,
 "nbformat_minor": 5
}

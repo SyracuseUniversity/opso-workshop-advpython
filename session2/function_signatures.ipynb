{
 "cells": [
  {
   "metadata": {},
   "cell_type": "markdown",
   "source": [
    "# Function signatures\n",
    "\n",
    "Functions can take arguments, let's take a closer look on what they can be.\n",
    "Before we dive in, let's first look at something slightly different that we will use later.\n"
   ],
   "id": "24388e94cb22e446"
  },
  {
   "metadata": {},
   "cell_type": "markdown",
   "source": [
    "## Packing and unpacking of values\n",
    "\n",
    "Using `*` or `**` we can pack/unpack list-like objects and dict-like objects, respectively. They act as a \"removal\" of the parenthesis when situated on the right and as an \"adder\" of parenthesis when situated on the left of the assigmenemt operator (`=`).\n",
    "\n",
    "Let's play around..."
   ],
   "id": "82f3b4b1c50b8fa3"
  },
  {
   "metadata": {},
   "cell_type": "code",
   "outputs": [],
   "execution_count": null,
   "source": "a, c, *b = [3, 4, 4.5, 5, 6]",
   "id": "4a50f15b6ee5f35d"
  },
  {
   "metadata": {},
   "cell_type": "code",
   "outputs": [],
   "execution_count": null,
   "source": "b",
   "id": "57dde4688fa7474b"
  },
  {
   "metadata": {},
   "cell_type": "markdown",
   "source": "As can be seen, b catches now all the remaining elements in a list. Interesting to see is also the special case if no element is left.",
   "id": "94ce10dcb447898d"
  },
  {
   "metadata": {},
   "cell_type": "code",
   "outputs": [],
   "execution_count": null,
   "source": "d1, d2, *d3, d4 = [1, 2, 3]  # nothing left for d3",
   "id": "b9f68712d2675f3d"
  },
  {
   "metadata": {},
   "cell_type": "code",
   "outputs": [],
   "execution_count": null,
   "source": "d3",
   "id": "f42d28eb499ed9c6"
  },
  {
   "metadata": {},
   "cell_type": "markdown",
   "source": "This is simply an empty list. However, this has the advantage that we know that it is _always_ a list.",
   "id": "d39ef0f1d295fb12"
  },
  {
   "metadata": {},
   "cell_type": "code",
   "outputs": [],
   "execution_count": null,
   "source": "a = [3, 4, 5]",
   "id": "b6afef65c72c4ee2"
  },
  {
   "metadata": {},
   "cell_type": "markdown",
   "source": "Multiple unpackings can be added together (however, the other way around does not work: multiple _packings_ are not possible as it is ill-defined which variable would get how many elements).",
   "id": "be77a61d1065ad17"
  },
  {
   "metadata": {},
   "cell_type": "code",
   "outputs": [],
   "execution_count": null,
   "source": "d, e, f, g, h, i = *a, *b",
   "id": "2b27e97203aac3a6"
  },
  {
   "metadata": {},
   "cell_type": "markdown",
   "source": "Now we should be able to understand the `*args` and `**kwargs` for functions. Let's look at it:",
   "id": "fd384b333a4a9d35"
  },
  {
   "metadata": {},
   "cell_type": "code",
   "outputs": [],
   "execution_count": null,
   "source": [
    "def func(*args, **kwargs):\n",
    "    print(f'args are {args}')\n",
    "    print(f\"kwargs are {kwargs}\")"
   ],
   "id": "934c3f5db55cb408"
  },
  {
   "metadata": {},
   "cell_type": "code",
   "outputs": [],
   "execution_count": null,
   "source": [
    "mykwargs = {'a': 5, 'b': 3}\n",
    "myargs = [1, 3, 4]\n",
    "func(*myargs, *mykwargs)"
   ],
   "id": "b543b0091f2b1ec9"
  },
  {
   "metadata": {},
   "cell_type": "code",
   "outputs": [],
   "execution_count": null,
   "source": "func(5, a=4)",
   "id": "a045f76fc7d410b3"
  },
  {
   "metadata": {},
   "cell_type": "code",
   "outputs": [],
   "execution_count": null,
   "source": "# play around with it!",
   "id": "33c5439bfa54855f"
  },
  {
   "metadata": {},
   "cell_type": "markdown",
   "source": [
    "## Function signatures\n",
    "\n",
    "A function in Python acts similar to a mathematical function. We have encountered classes before, which have methods. A method is a function that is bound to an object. A function is not bound to an object and can be called without an object.\n",
    "\n",
    "Functions can take arguments. These arguments can be of different types and can be passed in different ways. To clarify the terminology:\n",
    "- **parameter**: the variable in the function definition\n",
    "- **argument**: the actual value that is passed to the function\n",
    "\n",
    "The function signature is the definition of the function, including the parameters.\n",
    "\n",
    "### Keyword vs positional arguments\n",
    "\n",
    "Arguments can be passed in two ways: by position or by keyword. The latter is more flexible and can be used to pass only a subset of the arguments. The former is more rigid and requires all arguments to be passed in the correct order, it also has the disadvantage that it is not clear from the call what the argument is.\n",
    "\n",
    "\n"
   ],
   "id": "d1ec4c049a27d5cc"
  },
  {
   "metadata": {},
   "cell_type": "code",
   "outputs": [],
   "execution_count": null,
   "source": [
    "def func(a, b, c):\n",
    "    print(f'a={a}, b={b}, c={c}')"
   ],
   "id": "341d8ba6d30b107a"
  },
  {
   "metadata": {},
   "cell_type": "code",
   "outputs": [],
   "execution_count": null,
   "source": "func(1, 2, 3)  # positional",
   "id": "3689fef0b22bf56d"
  },
  {
   "metadata": {},
   "cell_type": "code",
   "outputs": [],
   "execution_count": null,
   "source": "func(a=1, b=2, c=3)  # keyword",
   "id": "2fc49731457df85d"
  },
  {
   "metadata": {},
   "cell_type": "code",
   "outputs": [],
   "execution_count": null,
   "source": "func(c=3, a=1, b=2)  # also keyword! See how the order doesn't matter!",
   "id": "3b17663e51c3954"
  },
  {
   "metadata": {},
   "cell_type": "code",
   "outputs": [],
   "execution_count": null,
   "source": "func(1, c=3, b=2)  # mixed",
   "id": "a692d457d3d9bed4"
  },
  {
   "metadata": {},
   "cell_type": "markdown",
   "source": [
    "#### Mixing arguments\n",
    "\n",
    "Arguments can be mixed, but positional arguments must come first. This is because the positional arguments are assigned in order, and the keyword arguments are assigned by name."
   ],
   "id": "123fd339c5282ca8"
  },
  {
   "metadata": {
    "tags": [
     "raises-exception"
    ]
   },
   "cell_type": "code",
   "outputs": [],
   "execution_count": null,
   "source": "func(1, b=2, 3)  # not allowed",
   "id": "393b0e956a8b0121"
  },
  {
   "metadata": {
    "tags": [
     "raises-exception"
    ]
   },
   "cell_type": "code",
   "outputs": [],
   "execution_count": null,
   "source": "func(1, 2, b=3)  # not allowed",
   "id": "3b697a3e555826f9"
  },
  {
   "metadata": {},
   "cell_type": "code",
   "outputs": [],
   "execution_count": null,
   "source": "func(1, 2, c=3)  # allowed",
   "id": "639b468464d0b066"
  },
  {
   "metadata": {},
   "cell_type": "markdown",
   "source": [
    "### args and kwargs\n",
    "\n",
    "The `*` and `**` operators that we've seen before can be used to capture all positional and keyword arguments, respectively. This is useful when the number of arguments is not known in advance or when the function is a wrapper around another function.\n",
    "\n",
    "They are by convention called `args` and `kwargs`, but any name can be used, technically."
   ],
   "id": "3f00f2d5adde2fb4"
  },
  {
   "metadata": {
    "ExecuteTime": {
     "end_time": "2024-12-09T20:48:40.441075Z",
     "start_time": "2024-12-09T20:48:40.437877Z"
    }
   },
   "cell_type": "code",
   "outputs": [],
   "execution_count": 2,
   "source": [
    "def func(*args, **kwargs):\n",
    "    print(f\"args: {args}\")\n",
    "    print(f\"kwargs: {kwargs}\")"
   ],
   "id": "79ac84827f315bf7"
  },
  {
   "metadata": {
    "ExecuteTime": {
     "end_time": "2024-12-09T20:48:41.296783Z",
     "start_time": "2024-12-09T20:48:41.292332Z"
    }
   },
   "cell_type": "code",
   "outputs": [
    {
     "name": "stdout",
     "output_type": "stream",
     "text": [
      "args: (1, 2, 3)\n",
      "kwargs: {'a': 4, 'b': 5}\n"
     ]
    }
   ],
   "execution_count": 3,
   "source": [
    "# play around with it! Example\n",
    "func(1, 2, 3, a=4, b=5)"
   ],
   "id": "5dc03615245289dc"
  },
  {
   "metadata": {},
   "cell_type": "markdown",
   "source": [
    "These can be mixed with regular arguments, but the regular arguments must come first.\n",
    "The simple rule is: if the intention is **unambiguous**, it's allowed. Otherwise, it will complain."
   ],
   "id": "772a238bf1e5137f"
  },
  {
   "metadata": {
    "ExecuteTime": {
     "end_time": "2024-12-09T20:50:28.579094Z",
     "start_time": "2024-12-09T20:50:28.576242Z"
    }
   },
   "cell_type": "code",
   "outputs": [],
   "execution_count": 4,
   "source": [
    "def func(a, b, *args, **kwargs):\n",
    "    print(f\"a={a}, b={b}, args={args}, kwargs={kwargs}\")"
   ],
   "id": "6ec38a50ab818e5b"
  },
  {
   "metadata": {
    "ExecuteTime": {
     "end_time": "2024-12-09T20:50:28.894338Z",
     "start_time": "2024-12-09T20:50:28.890467Z"
    }
   },
   "cell_type": "code",
   "outputs": [
    {
     "name": "stdout",
     "output_type": "stream",
     "text": [
      "a=1, b=2, args=(3, 4), kwargs={'c': 5, 'd': 6}\n"
     ]
    }
   ],
   "execution_count": 5,
   "source": "func(1, 2, 3, 4, c=5, d=6)",
   "id": "99bf65e40ab79720"
  },
  {
   "metadata": {
    "ExecuteTime": {
     "end_time": "2024-12-09T20:50:29.216884Z",
     "start_time": "2024-12-09T20:50:29.213351Z"
    }
   },
   "cell_type": "code",
   "outputs": [
    {
     "name": "stdout",
     "output_type": "stream",
     "text": [
      "a=1, b=2, args=(), kwargs={'c': 5, 'd': 6}\n"
     ]
    }
   ],
   "execution_count": 6,
   "source": "func(b=2, a=1, c=5, d=6)",
   "id": "536f92461e934059"
  },
  {
   "metadata": {
    "ExecuteTime": {
     "end_time": "2024-12-09T20:50:29.704874Z",
     "start_time": "2024-12-09T20:50:29.700111Z"
    }
   },
   "cell_type": "code",
   "outputs": [
    {
     "name": "stdout",
     "output_type": "stream",
     "text": [
      "a=1, b=2, args=(), kwargs={}\n"
     ]
    }
   ],
   "execution_count": 7,
   "source": "func(1, 2)  # no need to give actual args",
   "id": "fd821dde06c87ed"
  },
  {
   "metadata": {},
   "cell_type": "markdown",
   "source": [
    "### Unpacking parameters\n",
    "\n",
    "This works the other way around, too. If we have a list or a dict, we can unpack it and pass it as arguments to a function.\n",
    "The `*` operator unpacks a list or tuple, and the `**` operator unpacks a dict, the order doesn't matter."
   ],
   "id": "bc93d1bee69165ab"
  },
  {
   "metadata": {
    "ExecuteTime": {
     "end_time": "2024-12-09T20:53:36.317713Z",
     "start_time": "2024-12-09T20:53:36.314130Z"
    }
   },
   "cell_type": "code",
   "outputs": [],
   "execution_count": 9,
   "source": [
    "def func(a, b, c, d, e, f):\n",
    "    print(f\"a={a}, b={b}, c={c}, d={d}, e={e}, f={f}\")"
   ],
   "id": "f0313b96c82a5215"
  },
  {
   "metadata": {
    "ExecuteTime": {
     "end_time": "2024-12-09T20:53:36.634170Z",
     "start_time": "2024-12-09T20:53:36.631145Z"
    }
   },
   "cell_type": "code",
   "outputs": [],
   "execution_count": 10,
   "source": "args = [1, 2, 3, 4, 5, 6]",
   "id": "b254daa5ad8af692"
  },
  {
   "metadata": {
    "ExecuteTime": {
     "end_time": "2024-12-09T20:53:36.966084Z",
     "start_time": "2024-12-09T20:53:36.961719Z"
    }
   },
   "cell_type": "code",
   "outputs": [
    {
     "name": "stdout",
     "output_type": "stream",
     "text": [
      "a=1, b=2, c=3, d=4, e=5, f=6\n"
     ]
    }
   ],
   "execution_count": 11,
   "source": "func(*args)  # note the *!",
   "id": "47141f8600553fb5"
  },
  {
   "metadata": {
    "ExecuteTime": {
     "end_time": "2024-12-09T20:53:37.313005Z",
     "start_time": "2024-12-09T20:53:37.310281Z"
    }
   },
   "cell_type": "code",
   "outputs": [],
   "execution_count": 12,
   "source": "kwargs = {'a': 1, 'b': 2, 'c': 3, 'd': 4, 'e': 5, 'f': 6}",
   "id": "5532f01d2a487ac4"
  },
  {
   "metadata": {
    "ExecuteTime": {
     "end_time": "2024-12-09T20:53:37.954308Z",
     "start_time": "2024-12-09T20:53:37.950408Z"
    }
   },
   "cell_type": "code",
   "outputs": [
    {
     "name": "stdout",
     "output_type": "stream",
     "text": [
      "a=1, b=2, c=3, d=4, e=5, f=6\n"
     ]
    }
   ],
   "execution_count": 13,
   "source": "func(**kwargs)  # note the **!",
   "id": "ba4dad3fbaba73e3"
  },
  {
   "metadata": {
    "ExecuteTime": {
     "end_time": "2024-12-09T20:53:38.678167Z",
     "start_time": "2024-12-09T20:53:38.674752Z"
    }
   },
   "cell_type": "code",
   "outputs": [],
   "execution_count": 14,
   "source": [
    "# or apart\n",
    "args1 = [1, 2]\n",
    "args2 = [3, 4, 5]"
   ],
   "id": "42551f8465f71af0"
  },
  {
   "metadata": {
    "ExecuteTime": {
     "end_time": "2024-12-09T20:53:39.648352Z",
     "start_time": "2024-12-09T20:53:39.643683Z"
    }
   },
   "cell_type": "code",
   "outputs": [
    {
     "name": "stdout",
     "output_type": "stream",
     "text": [
      "a=1, b=2, c=3, d=4, e=5, f=6\n"
     ]
    }
   ],
   "execution_count": 15,
   "source": "func(*args1, *args2, 6)",
   "id": "fe9ba3e2a09db37f"
  },
  {
   "metadata": {},
   "cell_type": "code",
   "outputs": [],
   "execution_count": null,
   "source": "# or mixed with kwargs",
   "id": "9c896f143e20cfe7"
  },
  {
   "metadata": {
    "ExecuteTime": {
     "end_time": "2024-12-09T20:54:10.942889Z",
     "start_time": "2024-12-09T20:54:10.940361Z"
    }
   },
   "cell_type": "code",
   "outputs": [],
   "execution_count": 17,
   "source": [
    "args = [1, 2, 3]\n",
    "kwargs = {'d': 4, 'e': 5, 'f': 6}"
   ],
   "id": "e226ba2542305801"
  },
  {
   "metadata": {
    "ExecuteTime": {
     "end_time": "2024-12-09T20:54:11.530811Z",
     "start_time": "2024-12-09T20:54:11.527354Z"
    }
   },
   "cell_type": "code",
   "outputs": [
    {
     "name": "stdout",
     "output_type": "stream",
     "text": [
      "a=1, b=2, c=3, d=4, e=5, f=6\n"
     ]
    }
   ],
   "execution_count": 18,
   "source": "func(*args, **kwargs)",
   "id": "d480f7af4627693c"
  },
  {
   "metadata": {
    "ExecuteTime": {
     "end_time": "2024-12-09T20:56:38.714266Z",
     "start_time": "2024-12-09T20:56:38.711608Z"
    }
   },
   "cell_type": "code",
   "outputs": [],
   "execution_count": 23,
   "source": [
    "args = [2, 3]\n",
    "kwargs = {'d': 4, 'f': 6}"
   ],
   "id": "aca4ee0e65a5c9c8"
  },
  {
   "metadata": {
    "ExecuteTime": {
     "end_time": "2024-12-09T20:56:14.355817Z",
     "start_time": "2024-12-09T20:56:14.352172Z"
    }
   },
   "cell_type": "code",
   "outputs": [
    {
     "name": "stdout",
     "output_type": "stream",
     "text": [
      "a=1, b=2, c=3, d=4, e=5, f=6\n"
     ]
    }
   ],
   "execution_count": 22,
   "source": "func(1, *args, **kwargs, e=5)  # the order of keyword arguments doesn't matter",
   "id": "9ac58deb7ac7be78"
  },
  {
   "metadata": {},
   "cell_type": "markdown",
   "source": [
    "### Unpacking and packing in the same function\n",
    "\n",
    "We can combine both the unpacking and packing in the same function. This is useful if we want to pass some arguments to another function and capture the rest."
   ],
   "id": "59de859a4a2002a0"
  },
  {
   "metadata": {
    "ExecuteTime": {
     "end_time": "2024-12-09T20:59:43.860134Z",
     "start_time": "2024-12-09T20:59:43.856625Z"
    }
   },
   "cell_type": "code",
   "outputs": [],
   "execution_count": 35,
   "source": [
    "def func(*args, **kwargs):\n",
    "    print(f\"args={args}, kwargs={kwargs}\")"
   ],
   "id": "d60ec35f63c6523a"
  },
  {
   "metadata": {
    "ExecuteTime": {
     "end_time": "2024-12-09T20:59:44.265467Z",
     "start_time": "2024-12-09T20:59:44.262685Z"
    }
   },
   "cell_type": "code",
   "outputs": [],
   "execution_count": 36,
   "source": [
    "args = [1, 2, 3, 4]\n",
    "kwargs = {'c': 5, 'd': 6, 'e': 7, 'f': 8}"
   ],
   "id": "161b6d328657d895"
  },
  {
   "metadata": {
    "ExecuteTime": {
     "end_time": "2024-12-09T20:59:44.780147Z",
     "start_time": "2024-12-09T20:59:44.776584Z"
    }
   },
   "cell_type": "code",
   "outputs": [
    {
     "name": "stdout",
     "output_type": "stream",
     "text": [
      "args=(1, 2, 3, 4), kwargs={'c': 5, 'd': 6, 'e': 7, 'f': 8}\n"
     ]
    }
   ],
   "execution_count": 37,
   "source": "func(*args, **kwargs)  # before you execute: what do you expect?",
   "id": "c34b1ca96e2b3b76"
  },
  {
   "metadata": {},
   "cell_type": "markdown",
   "source": [
    "### Exercise: play around with it!\n",
    "\n",
    "Can you find combinations that work or that don't work? Do you understand them? Go together with a partner, write a function and call it and _before_ executing, the other needs to guess the output or if it errors."
   ],
   "id": "bf08464efbd0f581"
  },
  {
   "metadata": {},
   "cell_type": "markdown",
   "source": [
    "### Default arguments\n",
    "\n",
    "Arguments can have default values. This is useful if the argument is optional and has a common value. The default value is assigned at the function definition and can be overwritten by the caller.\n",
    "\n"
   ],
   "id": "9265a1dabf05d8e2"
  },
  {
   "metadata": {},
   "cell_type": "code",
   "outputs": [],
   "execution_count": null,
   "source": [
    "def func(a, b, c=3, d=4):\n",
    "    print(f'a={a}, b={b}, c={c}, d={d}')"
   ],
   "id": "6b418695a416f056"
  },
  {
   "metadata": {},
   "cell_type": "code",
   "outputs": [],
   "execution_count": null,
   "source": "func(1, 2)  # c and d are default",
   "id": "3307c419f3c02ff2"
  },
  {
   "metadata": {},
   "cell_type": "code",
   "outputs": [],
   "execution_count": null,
   "source": "func(1, 2, 3)  # d is default",
   "id": "ea5cb4671266923f"
  },
  {
   "metadata": {},
   "cell_type": "code",
   "outputs": [],
   "execution_count": null,
   "source": "func(1, 2, 3, 4)  # all are given",
   "id": "9588ae8857b8f4b5"
  },
  {
   "metadata": {},
   "cell_type": "code",
   "outputs": [],
   "execution_count": null,
   "source": "func(1, 2, d=5)  # c is default",
   "id": "c00bb09c8ea45bfb"
  },
  {
   "metadata": {},
   "cell_type": "code",
   "outputs": [],
   "execution_count": null,
   "source": "func(d=5, a=1, b=2)  # c is default",
   "id": "46ad986e8e2819f6"
  },
  {
   "metadata": {},
   "cell_type": "markdown",
   "source": "Find combinations that work and don't work.\n",
   "id": "4e7f7863124f714b"
  },
  {
   "metadata": {},
   "cell_type": "code",
   "outputs": [],
   "execution_count": null,
   "source": "# play around with it!\n",
   "id": "bde821bb217a345d"
  },
  {
   "metadata": {},
   "cell_type": "code",
   "outputs": [],
   "source": "",
   "id": "94d3ec69a21bc4e6",
   "execution_count": null
  },
  {
   "metadata": {},
   "cell_type": "markdown",
   "source": [
    "#### Mutable default arguments\n",
    "\n",
    "Note that the default value is assigned at the time of the function definition, not at the time of the function call. This means that if the default value is mutable, it can be changed by the function and the change will persist between calls."
   ],
   "id": "69f78c53111ce149"
  },
  {
   "metadata": {},
   "cell_type": "code",
   "outputs": [],
   "execution_count": null,
   "source": [
    "def append_a(a, b=[]):  # note that the list is created HERE. One list. It's never recreated\n",
    "    b.append(a)\n",
    "    return b"
   ],
   "id": "5d74ad4e6f5d736d"
  },
  {
   "metadata": {},
   "cell_type": "code",
   "outputs": [],
   "execution_count": null,
   "source": "list1 = [1, 2, 3]",
   "id": "17ec6e3d7ea7ef6"
  },
  {
   "metadata": {},
   "cell_type": "code",
   "outputs": [],
   "execution_count": null,
   "source": "list2 = append_a(1, list1)",
   "id": "65f60a7ed57b969e"
  },
  {
   "metadata": {},
   "cell_type": "code",
   "outputs": [],
   "execution_count": null,
   "source": "list2 is list1",
   "id": "6a5b36d54b152db1"
  },
  {
   "metadata": {},
   "cell_type": "code",
   "outputs": [],
   "execution_count": null,
   "source": "print(list2)",
   "id": "cd9d162517e0ae63"
  },
  {
   "metadata": {},
   "cell_type": "code",
   "outputs": [],
   "execution_count": null,
   "source": [
    "list3 = append_a(2)  # with default argument\n",
    "print(list3)"
   ],
   "id": "8440aebb2d2c18b9"
  },
  {
   "metadata": {},
   "cell_type": "code",
   "outputs": [],
   "execution_count": null,
   "source": [
    "list4 = append_a(3)  # with default argument\n",
    "print(list4)  # we've changed the default!"
   ],
   "id": "aff77b64df49ff7"
  },
  {
   "metadata": {},
   "cell_type": "markdown",
   "source": "Instead, use an immutable object like `None` and assign the mutable object inside the function (this pattern with using `None` as the default and assigning the actual default value inside the function is in general a good choice: providing `None` _to_ a function means the function uses its default value.)",
   "id": "ae9311f7e4520f51"
  },
  {
   "metadata": {},
   "cell_type": "code",
   "outputs": [],
   "execution_count": null,
   "source": [
    "def append_a(a, b=None):\n",
    "    if b is None:\n",
    "        b = []\n",
    "    b.append(a)\n",
    "    return b"
   ],
   "id": "a930d24420fe413d"
  },
  {
   "metadata": {},
   "cell_type": "markdown",
   "source": "Verify! Does this work? Does it make sense?",
   "id": "876c22a070b890d0"
  }
 ],
 "metadata": {
  "kernelspec": {
   "display_name": "Python 3",
   "language": "python",
   "name": "python3"
  },
  "language_info": {
   "codemirror_mode": {
    "name": "ipython",
    "version": 2
   },
   "file_extension": ".py",
   "mimetype": "text/x-python",
   "name": "python",
   "nbconvert_exporter": "python",
   "pygments_lexer": "ipython2",
   "version": "2.7.6"
  }
 },
 "nbformat": 4,
 "nbformat_minor": 5
}

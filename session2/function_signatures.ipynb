{
 "cells": [
  {
   "cell_type": "markdown",
   "id": "24388e94cb22e446",
   "metadata": {},
   "source": [
    "# Function signatures\n",
    "\n",
    "Functions can take arguments, let's take a closer look on what they can be.\n",
    "Before we dive in, let's first look at something slightly different that we will use later.\n"
   ]
  },
  {
   "cell_type": "markdown",
   "id": "82f3b4b1c50b8fa3",
   "metadata": {},
   "source": [
    "## Packing and unpacking of values\n",
    "\n",
    "Using `*` or `**` we can pack/unpack list-like objects and dict-like objects, respectively. They act as a \"removal\" of the parenthesis when situated on the right and as an \"adder\" of parenthesis when situated on the left of the assigmenemt operator (`=`).\n",
    "\n",
    "Let's play around..."
   ]
  },
  {
   "cell_type": "code",
   "execution_count": null,
   "id": "60e4a73a-a86f-463d-ae85-d32da7b33797",
   "metadata": {},
   "outputs": [],
   "source": [
    "a, b, c,d,e = [3, 4, 4.5, 5, 6]"
   ]
  },
  {
   "cell_type": "code",
   "execution_count": null,
   "id": "23e37278-a17d-48ef-bb03-08c4dfd93a3d",
   "metadata": {},
   "outputs": [],
   "source": [
    "b"
   ]
  },
  {
   "cell_type": "code",
   "execution_count": null,
   "id": "4a50f15b6ee5f35d",
   "metadata": {},
   "outputs": [],
   "source": [
    "a, c, *b = [3, 4, 4.5, 5, 6]"
   ]
  },
  {
   "cell_type": "code",
   "execution_count": null,
   "id": "57dde4688fa7474b",
   "metadata": {},
   "outputs": [],
   "source": [
    "b"
   ]
  },
  {
   "cell_type": "markdown",
   "id": "94ce10dcb447898d",
   "metadata": {},
   "source": [
    "As can be seen, b catches now all the remaining elements in a list. Interesting to see is also the special case if no element is left."
   ]
  },
  {
   "cell_type": "code",
   "execution_count": null,
   "id": "b9f68712d2675f3d",
   "metadata": {},
   "outputs": [],
   "source": [
    "d1, d2, *d3, d4 = [1, 2, 3]  # nothing left for d3"
   ]
  },
  {
   "cell_type": "code",
   "execution_count": null,
   "id": "f42d28eb499ed9c6",
   "metadata": {},
   "outputs": [],
   "source": [
    "d3"
   ]
  },
  {
   "cell_type": "markdown",
   "id": "d39ef0f1d295fb12",
   "metadata": {},
   "source": [
    "This is simply an empty list. However, this has the advantage that we know that it is _always_ a list."
   ]
  },
  {
   "cell_type": "code",
   "execution_count": null,
   "id": "b6afef65c72c4ee2",
   "metadata": {},
   "outputs": [],
   "source": [
    "a = [3, 4, 5]"
   ]
  },
  {
   "cell_type": "code",
   "execution_count": null,
   "id": "064dcd3a-078e-4863-a847-2168cf26f106",
   "metadata": {},
   "outputs": [],
   "source": [
    "c, d, e = [*a]"
   ]
  },
  {
   "cell_type": "markdown",
   "id": "be77a61d1065ad17",
   "metadata": {},
   "source": [
    "Multiple unpackings can be added together (however, the other way around does not work: multiple _packings_ are not possible as it is ill-defined which variable would get how many elements)."
   ]
  },
  {
   "cell_type": "code",
   "execution_count": null,
   "id": "2b27e97203aac3a6",
   "metadata": {},
   "outputs": [],
   "source": [
    "d, e, f, g, h, i = *a, *b"
   ]
  },
  {
   "cell_type": "markdown",
   "id": "fd384b333a4a9d35",
   "metadata": {},
   "source": [
    "Now we should be able to understand the `*args` and `**kwargs` for functions. Let's look at it:"
   ]
  },
  {
   "cell_type": "code",
   "execution_count": null,
   "id": "934c3f5db55cb408",
   "metadata": {},
   "outputs": [],
   "source": [
    "def func(*args, **kwargs):\n",
    "    print(f'args are {args}')\n",
    "    print(f\"kwargs are {kwargs}\")"
   ]
  },
  {
   "cell_type": "code",
   "execution_count": null,
   "id": "b543b0091f2b1ec9",
   "metadata": {},
   "outputs": [],
   "source": [
    "mykwargs = {'a': 5, 'b': 3}\n",
    "myargs = [1, 3, 4]\n",
    "func(*myargs, *mykwargs)"
   ]
  },
  {
   "cell_type": "code",
   "execution_count": null,
   "id": "a045f76fc7d410b3",
   "metadata": {},
   "outputs": [],
   "source": [
    "func(5, a=4)"
   ]
  },
  {
   "cell_type": "code",
   "execution_count": null,
   "id": "33c5439bfa54855f",
   "metadata": {},
   "outputs": [],
   "source": [
    "# play around with it!"
   ]
  },
  {
   "cell_type": "markdown",
   "id": "d1ec4c049a27d5cc",
   "metadata": {},
   "source": [
    "## Function signatures\n",
    "\n",
    "A function in Python acts similar to a mathematical function. We have encountered classes before, which have methods. A method is a function that is bound to an object. A function is not bound to an object and can be called without an object.\n",
    "\n",
    "Functions can take arguments. These arguments can be of different types and can be passed in different ways. To clarify the terminology:\n",
    "- **parameter**: the variable in the function definition\n",
    "- **argument**: the actual value that is passed to the function\n",
    "\n",
    "The function signature is the definition of the function, including the parameters.\n",
    "\n",
    "### Keyword vs positional arguments\n",
    "\n",
    "Arguments can be passed in two ways: by position or by keyword. The latter is more flexible and can be used to pass only a subset of the arguments. The former is more rigid and requires all arguments to be passed in the correct order, it also has the disadvantage that it is not clear from the call what the argument is.\n",
    "\n",
    "\n"
   ]
  },
  {
   "cell_type": "code",
   "execution_count": null,
   "id": "341d8ba6d30b107a",
   "metadata": {},
   "outputs": [],
   "source": [
    "def func(a, b, c):\n",
    "    print(f'a={a}, b={b}, c={c}')"
   ]
  },
  {
   "cell_type": "code",
   "execution_count": null,
   "id": "3689fef0b22bf56d",
   "metadata": {},
   "outputs": [],
   "source": [
    "func(1, 2, 3)  # positional"
   ]
  },
  {
   "cell_type": "code",
   "execution_count": null,
   "id": "2fc49731457df85d",
   "metadata": {},
   "outputs": [],
   "source": [
    "func(a=1, b=2, c=3)  # keyword"
   ]
  },
  {
   "cell_type": "code",
   "execution_count": null,
   "id": "3b17663e51c3954",
   "metadata": {},
   "outputs": [],
   "source": [
    "func(c=3, a=1, b=2)  # also keyword! See how the order doesn't matter!"
   ]
  },
  {
   "cell_type": "code",
   "execution_count": null,
   "id": "a692d457d3d9bed4",
   "metadata": {},
   "outputs": [],
   "source": [
    "func(1, c=3, b=2)  # mixed"
   ]
  },
  {
   "cell_type": "markdown",
   "id": "123fd339c5282ca8",
   "metadata": {},
   "source": [
    "#### Mixing arguments\n",
    "\n",
    "Arguments can be mixed, but positional arguments must come first. This is because the positional arguments are assigned in order, and the keyword arguments are assigned by name."
   ]
  },
  {
   "cell_type": "code",
   "execution_count": null,
   "id": "393b0e956a8b0121",
   "metadata": {
    "tags": [
     "raises-exception"
    ]
   },
   "outputs": [],
   "source": [
    "func(1, b=2, 3)  # not allowed"
   ]
  },
  {
   "cell_type": "code",
   "execution_count": null,
   "id": "3b697a3e555826f9",
   "metadata": {
    "tags": [
     "raises-exception"
    ]
   },
   "outputs": [],
   "source": [
    "func(1, 2, b=3)  # not allowed"
   ]
  },
  {
   "cell_type": "code",
   "execution_count": null,
   "id": "639b468464d0b066",
   "metadata": {},
   "outputs": [],
   "source": [
    "func(1, 2, c=3)  # allowed"
   ]
  },
  {
   "cell_type": "markdown",
   "id": "3f00f2d5adde2fb4",
   "metadata": {},
   "source": [
    "### args and kwargs\n",
    "\n",
    "The `*` and `**` operators that we've seen before can be used to capture all positional and keyword arguments, respectively. This is useful when the number of arguments is not known in advance or when the function is a wrapper around another function.\n",
    "\n",
    "They are by convention called `args` and `kwargs`, but any name can be used, technically."
   ]
  },
  {
   "cell_type": "code",
   "execution_count": 5,
   "id": "79ac84827f315bf7",
   "metadata": {
    "ExecuteTime": {
     "end_time": "2024-12-09T20:48:40.441075Z",
     "start_time": "2024-12-09T20:48:40.437877Z"
    }
   },
   "outputs": [],
   "source": [
    "def func(*args, **kwargs):\n",
    "    print(f\"args: {args}\")\n",
    "    print(f\"kwargs: {kwargs}\")"
   ]
  },
  {
   "cell_type": "code",
   "execution_count": 6,
   "id": "5dc03615245289dc",
   "metadata": {
    "ExecuteTime": {
     "end_time": "2024-12-09T20:48:41.296783Z",
     "start_time": "2024-12-09T20:48:41.292332Z"
    }
   },
   "outputs": [
    {
     "name": "stdout",
     "output_type": "stream",
     "text": [
      "args: (1, 2, 3, 5)\n",
      "kwargs: {'a': 4, 'b': 5}\n"
     ]
    }
   ],
   "source": [
    "# play around with it! Example\n",
    "func(1, 2, 3, 5, a=4, b=5)"
   ]
  },
  {
   "cell_type": "markdown",
   "id": "772a238bf1e5137f",
   "metadata": {},
   "source": [
    "These can be mixed with regular arguments, but the regular arguments must come first.\n",
    "The simple rule is: if the intention is **unambiguous**, it's allowed. Otherwise, it will complain."
   ]
  },
  {
   "cell_type": "code",
   "execution_count": 7,
   "id": "6ec38a50ab818e5b",
   "metadata": {
    "ExecuteTime": {
     "end_time": "2024-12-09T20:50:28.579094Z",
     "start_time": "2024-12-09T20:50:28.576242Z"
    }
   },
   "outputs": [],
   "source": [
    "def func(a, b, *args, **kwargs):\n",
    "    print(f\"a={a}, b={b}, args={args}, kwargs={kwargs}\")"
   ]
  },
  {
   "cell_type": "code",
   "execution_count": 8,
   "id": "99bf65e40ab79720",
   "metadata": {
    "ExecuteTime": {
     "end_time": "2024-12-09T20:50:28.894338Z",
     "start_time": "2024-12-09T20:50:28.890467Z"
    }
   },
   "outputs": [
    {
     "name": "stdout",
     "output_type": "stream",
     "text": [
      "a=1, b=2, args=(3, 4), kwargs={'c': 5, 'd': 6}\n"
     ]
    }
   ],
   "source": [
    "func(1, 2, 3, 4, c=5, d=6)"
   ]
  },
  {
   "cell_type": "code",
   "execution_count": 9,
   "id": "536f92461e934059",
   "metadata": {
    "ExecuteTime": {
     "end_time": "2024-12-09T20:50:29.216884Z",
     "start_time": "2024-12-09T20:50:29.213351Z"
    }
   },
   "outputs": [
    {
     "name": "stdout",
     "output_type": "stream",
     "text": [
      "a=1, b=2, args=(), kwargs={'c': 5, 'd': 6}\n"
     ]
    }
   ],
   "source": [
    "func(b=2, a=1, c=5, d=6)"
   ]
  },
  {
   "cell_type": "code",
   "execution_count": 10,
   "id": "fd821dde06c87ed",
   "metadata": {
    "ExecuteTime": {
     "end_time": "2024-12-09T20:50:29.704874Z",
     "start_time": "2024-12-09T20:50:29.700111Z"
    }
   },
   "outputs": [
    {
     "name": "stdout",
     "output_type": "stream",
     "text": [
      "a=1, b=2, args=(), kwargs={}\n"
     ]
    }
   ],
   "source": [
    "func(1, 2)  # no need to give actual args"
   ]
  },
  {
   "cell_type": "markdown",
   "id": "bc93d1bee69165ab",
   "metadata": {},
   "source": [
    "### Unpacking parameters\n",
    "\n",
    "This works the other way around, too. If we have a list or a dict, we can unpack it and pass it as arguments to a function.\n",
    "The `*` operator unpacks a list or tuple, and the `**` operator unpacks a dict, the order doesn't matter."
   ]
  },
  {
   "cell_type": "code",
   "execution_count": 11,
   "id": "f0313b96c82a5215",
   "metadata": {
    "ExecuteTime": {
     "end_time": "2024-12-09T20:53:36.317713Z",
     "start_time": "2024-12-09T20:53:36.314130Z"
    }
   },
   "outputs": [],
   "source": [
    "def func(a, b, c, d, e, f):\n",
    "    print(f\"a={a}, b={b}, c={c}, d={d}, e={e}, f={f}\")"
   ]
  },
  {
   "cell_type": "code",
   "execution_count": 19,
   "id": "b254daa5ad8af692",
   "metadata": {
    "ExecuteTime": {
     "end_time": "2024-12-09T20:53:36.634170Z",
     "start_time": "2024-12-09T20:53:36.631145Z"
    }
   },
   "outputs": [],
   "source": [
    "args = [1, 2, 3, 4, 5, 6]"
   ]
  },
  {
   "cell_type": "code",
   "execution_count": 20,
   "id": "47141f8600553fb5",
   "metadata": {
    "ExecuteTime": {
     "end_time": "2024-12-09T20:53:36.966084Z",
     "start_time": "2024-12-09T20:53:36.961719Z"
    }
   },
   "outputs": [
    {
     "name": "stdout",
     "output_type": "stream",
     "text": [
      "a=1, b=2, c=3, d=4, e=5, f=6\n"
     ]
    }
   ],
   "source": [
    "func(*args)  # note the *!"
   ]
  },
  {
   "cell_type": "code",
   "execution_count": 22,
   "id": "5532f01d2a487ac4",
   "metadata": {
    "ExecuteTime": {
     "end_time": "2024-12-09T20:53:37.313005Z",
     "start_time": "2024-12-09T20:53:37.310281Z"
    }
   },
   "outputs": [],
   "source": [
    "kwargs = {'a': 1, 'b': 2, 'c': 3, 'd': 4, 'e': 5, 'f': 6}"
   ]
  },
  {
   "cell_type": "code",
   "execution_count": 23,
   "id": "ba4dad3fbaba73e3",
   "metadata": {
    "ExecuteTime": {
     "end_time": "2024-12-09T20:53:37.954308Z",
     "start_time": "2024-12-09T20:53:37.950408Z"
    }
   },
   "outputs": [
    {
     "name": "stdout",
     "output_type": "stream",
     "text": [
      "a=1, b=2, c=3, d=4, e=5, f=6\n"
     ]
    }
   ],
   "source": [
    "func(**kwargs)  # note the **!"
   ]
  },
  {
   "cell_type": "code",
   "execution_count": 24,
   "id": "42551f8465f71af0",
   "metadata": {
    "ExecuteTime": {
     "end_time": "2024-12-09T20:53:38.678167Z",
     "start_time": "2024-12-09T20:53:38.674752Z"
    }
   },
   "outputs": [],
   "source": [
    "# or apart\n",
    "args1 = [1, 2]\n",
    "args2 = [3, 4, 5]"
   ]
  },
  {
   "cell_type": "code",
   "execution_count": 25,
   "id": "fe9ba3e2a09db37f",
   "metadata": {
    "ExecuteTime": {
     "end_time": "2024-12-09T20:53:39.648352Z",
     "start_time": "2024-12-09T20:53:39.643683Z"
    }
   },
   "outputs": [
    {
     "name": "stdout",
     "output_type": "stream",
     "text": [
      "a=1, b=2, c=3, d=4, e=5, f=6\n"
     ]
    }
   ],
   "source": [
    "func(*args1, *args2, 6)"
   ]
  },
  {
   "cell_type": "code",
   "execution_count": 26,
   "id": "9c896f143e20cfe7",
   "metadata": {},
   "outputs": [],
   "source": [
    "# or mixed with kwargs"
   ]
  },
  {
   "cell_type": "code",
   "execution_count": 27,
   "id": "e226ba2542305801",
   "metadata": {
    "ExecuteTime": {
     "end_time": "2024-12-09T20:54:10.942889Z",
     "start_time": "2024-12-09T20:54:10.940361Z"
    }
   },
   "outputs": [],
   "source": [
    "args = [1, 2, 3]\n",
    "kwargs = {'d': 4, 'e': 5, 'f': 6}"
   ]
  },
  {
   "cell_type": "code",
   "execution_count": 28,
   "id": "d480f7af4627693c",
   "metadata": {
    "ExecuteTime": {
     "end_time": "2024-12-09T20:54:11.530811Z",
     "start_time": "2024-12-09T20:54:11.527354Z"
    }
   },
   "outputs": [
    {
     "name": "stdout",
     "output_type": "stream",
     "text": [
      "a=1, b=2, c=3, d=4, e=5, f=6\n"
     ]
    }
   ],
   "source": [
    "func(*args, **kwargs)"
   ]
  },
  {
   "cell_type": "code",
   "execution_count": 29,
   "id": "aca4ee0e65a5c9c8",
   "metadata": {
    "ExecuteTime": {
     "end_time": "2024-12-09T20:56:38.714266Z",
     "start_time": "2024-12-09T20:56:38.711608Z"
    }
   },
   "outputs": [],
   "source": [
    "args = [2, 3]\n",
    "kwargs = {'d': 4, 'f': 6}"
   ]
  },
  {
   "cell_type": "code",
   "execution_count": 30,
   "id": "9ac58deb7ac7be78",
   "metadata": {
    "ExecuteTime": {
     "end_time": "2024-12-09T20:56:14.355817Z",
     "start_time": "2024-12-09T20:56:14.352172Z"
    }
   },
   "outputs": [
    {
     "name": "stdout",
     "output_type": "stream",
     "text": [
      "a=1, b=2, c=3, d=4, e=5, f=6\n"
     ]
    }
   ],
   "source": [
    "func(1, *args, **kwargs, e=5)  # the order of keyword arguments doesn't matter"
   ]
  },
  {
   "cell_type": "markdown",
   "id": "59de859a4a2002a0",
   "metadata": {},
   "source": [
    "### Unpacking and packing in the same function\n",
    "\n",
    "We can combine both the unpacking and packing in the same function. This is useful if we want to pass some arguments to another function and capture the rest."
   ]
  },
  {
   "cell_type": "code",
   "execution_count": 31,
   "id": "d60ec35f63c6523a",
   "metadata": {
    "ExecuteTime": {
     "end_time": "2024-12-09T20:59:43.860134Z",
     "start_time": "2024-12-09T20:59:43.856625Z"
    }
   },
   "outputs": [],
   "source": [
    "def func(*args, **kwargs):\n",
    "    print(f\"args={args}, kwargs={kwargs}\")"
   ]
  },
  {
   "cell_type": "code",
   "execution_count": 32,
   "id": "161b6d328657d895",
   "metadata": {
    "ExecuteTime": {
     "end_time": "2024-12-09T20:59:44.265467Z",
     "start_time": "2024-12-09T20:59:44.262685Z"
    }
   },
   "outputs": [],
   "source": [
    "args = [1, 2, 3, 4]\n",
    "kwargs = {'c': 5, 'd': 6, 'e': 7, 'f': 8}"
   ]
  },
  {
   "cell_type": "code",
   "execution_count": 33,
   "id": "c34b1ca96e2b3b76",
   "metadata": {
    "ExecuteTime": {
     "end_time": "2024-12-09T20:59:44.780147Z",
     "start_time": "2024-12-09T20:59:44.776584Z"
    }
   },
   "outputs": [
    {
     "name": "stdout",
     "output_type": "stream",
     "text": [
      "args=(1, 2, 3, 4), kwargs={'c': 5, 'd': 6, 'e': 7, 'f': 8}\n"
     ]
    }
   ],
   "source": [
    "func(*args, **kwargs)  # before you execute: what do you expect?"
   ]
  },
  {
   "cell_type": "code",
   "execution_count": 46,
   "id": "3dbd3f8e-b0c9-4db3-a978-bdae86259774",
   "metadata": {},
   "outputs": [],
   "source": [
    "def func(a, b, c):\n",
    "    return a * b + c"
   ]
  },
  {
   "cell_type": "code",
   "execution_count": 48,
   "id": "b9ff05ee-a687-42a0-b173-f5154cac1b04",
   "metadata": {},
   "outputs": [
    {
     "data": {
      "text/plain": [
       "58"
      ]
     },
     "execution_count": 48,
     "metadata": {},
     "output_type": "execute_result"
    }
   ],
   "source": [
    "func(5, b=11, c=3)"
   ]
  },
  {
   "cell_type": "code",
   "execution_count": 52,
   "id": "3808e1ef-e32d-49f2-9333-423faab2b078",
   "metadata": {},
   "outputs": [
    {
     "data": {
      "text/plain": [
       "[('c', 5), ('d', 6), ('e', 7), ('f', 8)]"
      ]
     },
     "execution_count": 52,
     "metadata": {},
     "output_type": "execute_result"
    }
   ],
   "source": [
    "list(kwargs.items())"
   ]
  },
  {
   "cell_type": "code",
   "execution_count": 56,
   "id": "1fac1828-bd7f-42dc-9b77-dfd755846aaa",
   "metadata": {},
   "outputs": [
    {
     "data": {
      "text/plain": [
       "('c', 'd', 'e', 'f')"
      ]
     },
     "execution_count": 56,
     "metadata": {},
     "output_type": "execute_result"
    }
   ],
   "source": [
    "unpacked_dict = (*kwargs,)\n",
    "unpacked_dict"
   ]
  },
  {
   "cell_type": "markdown",
   "id": "bf08464efbd0f581",
   "metadata": {},
   "source": [
    "### Exercise: play around with it!\n",
    "\n",
    "Can you find combinations that work or that don't work? Do you understand them? Go together with a partner, write a function and call it and _before_ executing, the other needs to guess the output or if it errors."
   ]
  },
  {
   "cell_type": "markdown",
   "id": "9265a1dabf05d8e2",
   "metadata": {},
   "source": [
    "### Default arguments\n",
    "\n",
    "Arguments can have default values. This is useful if the argument is optional and has a common value. The default value is assigned at the function definition and can be overwritten by the caller.\n",
    "\n"
   ]
  },
  {
   "cell_type": "code",
   "execution_count": 57,
   "id": "6b418695a416f056",
   "metadata": {},
   "outputs": [],
   "source": [
    "def func(a, b, c=3, d=4):\n",
    "    print(f'a={a}, b={b}, c={c}, d={d}')"
   ]
  },
  {
   "cell_type": "code",
   "execution_count": 58,
   "id": "3307c419f3c02ff2",
   "metadata": {},
   "outputs": [
    {
     "name": "stdout",
     "output_type": "stream",
     "text": [
      "a=1, b=2, c=3, d=4\n"
     ]
    }
   ],
   "source": [
    "func(1, 2)  # c and d are default"
   ]
  },
  {
   "cell_type": "code",
   "execution_count": 59,
   "id": "ea5cb4671266923f",
   "metadata": {},
   "outputs": [
    {
     "name": "stdout",
     "output_type": "stream",
     "text": [
      "a=1, b=2, c=3, d=4\n"
     ]
    }
   ],
   "source": [
    "func(1, 2, 3)  # d is default"
   ]
  },
  {
   "cell_type": "code",
   "execution_count": 60,
   "id": "9588ae8857b8f4b5",
   "metadata": {},
   "outputs": [
    {
     "name": "stdout",
     "output_type": "stream",
     "text": [
      "a=1, b=2, c=3, d=4\n"
     ]
    }
   ],
   "source": [
    "func(1, 2, 3, 4)  # all are given"
   ]
  },
  {
   "cell_type": "code",
   "execution_count": 61,
   "id": "c00bb09c8ea45bfb",
   "metadata": {},
   "outputs": [
    {
     "name": "stdout",
     "output_type": "stream",
     "text": [
      "a=1, b=2, c=3, d=5\n"
     ]
    }
   ],
   "source": [
    "func(1, 2, d=5)  # c is default"
   ]
  },
  {
   "cell_type": "code",
   "execution_count": 62,
   "id": "46ad986e8e2819f6",
   "metadata": {},
   "outputs": [
    {
     "name": "stdout",
     "output_type": "stream",
     "text": [
      "a=1, b=2, c=3, d=5\n"
     ]
    }
   ],
   "source": [
    "func(d=5, a=1, b=2)  # c is default"
   ]
  },
  {
   "cell_type": "markdown",
   "id": "4e7f7863124f714b",
   "metadata": {},
   "source": [
    "Find combinations that work and don't work.\n"
   ]
  },
  {
   "cell_type": "code",
   "execution_count": null,
   "id": "bde821bb217a345d",
   "metadata": {},
   "outputs": [],
   "source": [
    "# play around with it!\n"
   ]
  },
  {
   "cell_type": "code",
   "execution_count": null,
   "id": "94d3ec69a21bc4e6",
   "metadata": {},
   "outputs": [],
   "source": []
  },
  {
   "cell_type": "markdown",
   "id": "69f78c53111ce149",
   "metadata": {},
   "source": [
    "#### Mutable default arguments\n",
    "\n",
    "Note that the default value is assigned at the time of the function definition, not at the time of the function call. This means that if the default value is mutable, it can be changed by the function and the change will persist between calls."
   ]
  },
  {
   "cell_type": "code",
   "execution_count": 63,
   "id": "5d74ad4e6f5d736d",
   "metadata": {},
   "outputs": [],
   "source": [
    "def append_a(a, b=[]):  # note that the list is created HERE. One list. It's never recreated\n",
    "    b.append(a)\n",
    "    return b"
   ]
  },
  {
   "cell_type": "code",
   "execution_count": 64,
   "id": "17ec6e3d7ea7ef6",
   "metadata": {},
   "outputs": [],
   "source": [
    "list1 = [1, 2, 3]"
   ]
  },
  {
   "cell_type": "code",
   "execution_count": 70,
   "id": "65f60a7ed57b969e",
   "metadata": {},
   "outputs": [],
   "source": [
    "list2 = append_a(1, list1)"
   ]
  },
  {
   "cell_type": "code",
   "execution_count": 71,
   "id": "6a5b36d54b152db1",
   "metadata": {},
   "outputs": [
    {
     "data": {
      "text/plain": [
       "[1, 2, 3, 1, 1, 1]"
      ]
     },
     "execution_count": 71,
     "metadata": {},
     "output_type": "execute_result"
    }
   ],
   "source": [
    "list2"
   ]
  },
  {
   "cell_type": "code",
   "execution_count": 72,
   "id": "e4fd7540-86bb-440c-b8c2-f2738764b3ca",
   "metadata": {},
   "outputs": [
    {
     "data": {
      "text/plain": [
       "[1, 2, 3, 1, 1, 1]"
      ]
     },
     "execution_count": 72,
     "metadata": {},
     "output_type": "execute_result"
    }
   ],
   "source": [
    "list1"
   ]
  },
  {
   "cell_type": "code",
   "execution_count": 73,
   "id": "cd9d162517e0ae63",
   "metadata": {},
   "outputs": [
    {
     "name": "stdout",
     "output_type": "stream",
     "text": [
      "[1, 2, 3, 1, 1, 1]\n"
     ]
    }
   ],
   "source": [
    "print(list2)"
   ]
  },
  {
   "cell_type": "code",
   "execution_count": 74,
   "id": "8440aebb2d2c18b9",
   "metadata": {},
   "outputs": [
    {
     "name": "stdout",
     "output_type": "stream",
     "text": [
      "[2]\n"
     ]
    }
   ],
   "source": [
    "list3 = append_a(2)  # with default argument\n",
    "print(list3)"
   ]
  },
  {
   "cell_type": "code",
   "execution_count": 77,
   "id": "aff77b64df49ff7",
   "metadata": {},
   "outputs": [
    {
     "name": "stdout",
     "output_type": "stream",
     "text": [
      "[2, 3, 3, 3]\n"
     ]
    }
   ],
   "source": [
    "list4 = append_a(3)  # with default argument\n",
    "print(list4)  # we've changed the default!"
   ]
  },
  {
   "cell_type": "code",
   "execution_count": 78,
   "id": "cf149d9a-5f46-4517-b3f3-6078b818f553",
   "metadata": {},
   "outputs": [
    {
     "data": {
      "text/plain": [
       "[2, 3, 3, 3]"
      ]
     },
     "execution_count": 78,
     "metadata": {},
     "output_type": "execute_result"
    }
   ],
   "source": [
    "list3"
   ]
  },
  {
   "cell_type": "markdown",
   "id": "ae9311f7e4520f51",
   "metadata": {},
   "source": [
    "Instead, use an immutable object like `None` and assign the mutable object inside the function (this pattern with using `None` as the default and assigning the actual default value inside the function is in general a good choice: providing `None` _to_ a function means the function uses its default value.)"
   ]
  },
  {
   "cell_type": "code",
   "execution_count": 79,
   "id": "a930d24420fe413d",
   "metadata": {},
   "outputs": [],
   "source": [
    "def append_a(a, b=None):\n",
    "    if b is None:\n",
    "        b = []\n",
    "    b.append(a)\n",
    "    return b"
   ]
  },
  {
   "cell_type": "markdown",
   "id": "876c22a070b890d0",
   "metadata": {},
   "source": [
    "Verify! Does this work? Does it make sense?"
   ]
  },
  {
   "cell_type": "code",
   "execution_count": null,
   "id": "30940ca9-d3c4-481b-b88e-24f6510e4547",
   "metadata": {},
   "outputs": [],
   "source": [
    "def append_a(a, b=None):\n",
    "    if b is None:\n",
    "        b = []\n",
    "    b.append(a)\n",
    "    return b"
   ]
  }
 ],
 "metadata": {
  "kernelspec": {
   "display_name": "Python 3 (ipykernel)",
   "language": "python",
   "name": "python3"
  },
  "language_info": {
   "codemirror_mode": {
    "name": "ipython",
    "version": 3
   },
   "file_extension": ".py",
   "mimetype": "text/x-python",
   "name": "python",
   "nbconvert_exporter": "python",
   "pygments_lexer": "ipython3",
   "version": "3.11.11"
  }
 },
 "nbformat": 4,
 "nbformat_minor": 5
}

{
 "cells": [
  {
   "cell_type": "markdown",
   "id": "0",
   "metadata": {},
   "source": [
    "## Context manager\n",
    "\n",
    "A context manager is an object that responds to a `with` statement. It may returns something. The basic idea is that some action is performed when entering a context and again when exiting it.\n",
    "\n",
    "```\n",
    "with context as var:\n",
    "    # do something\n",
    "```\n",
    "translates to\n",
    "```\n",
    "# execute context entering code\n",
    "var = return_from_context_entering_code\n",
    "# do something\n",
    "# execute context leaving code\n",
    "```\n",
    "\n",
    "The great advantage here is that the \"leaving code\" is automatically executed whenever we step out of the context!\n",
    "\n",
    "This proved to be incredibly useful when operations have cleanup code that we need to execute yet that is tedious to write manually and can be forgotten.\n",
    "\n",
    "### Using `yield`\n",
    "\n",
    "One way to create a context manager is to have a function that has a `yield`.\n",
    "\n",
    "_What is `yield`?_: It's like a return, except that the execution stops at the `yield`, lets other code execute and, at some point, **continues** again where the yield was. Examples are:\n",
    "- iterator: a function that yields elements. Everytime it is called, it is supposed to yield an element and then continue from there\n",
    "- asynchronous programing: it stops and waits until something else is finished\n",
    "- in the context manager, as we will see"
   ]
  },
  {
   "cell_type": "code",
   "execution_count": null,
   "id": "1",
   "metadata": {},
   "outputs": [],
   "source": [
    "# with open(\"path/to/file\") as file:\n",
    "#     do something"
   ]
  },
  {
   "cell_type": "code",
   "execution_count": null,
   "id": "2",
   "metadata": {},
   "outputs": [],
   "source": [
    "import contextlib\n",
    "\n",
    "\n",
    "@contextlib.contextmanager\n",
    "def printer(x):\n",
    "    print(f'we just entered the context manager and will yield {x}')\n",
    "    yield x\n",
    "    print(f'Finishing the context manager, exiting')"
   ]
  },
  {
   "cell_type": "code",
   "execution_count": null,
   "id": "3",
   "metadata": {},
   "outputs": [],
   "source": [
    "with printer(5) as number:\n",
    "    print(f\"we're inside, with number={number}\")\n",
    "print(\"left manager\")"
   ]
  },
  {
   "cell_type": "markdown",
   "id": "4",
   "metadata": {},
   "source": [
    "#### Where is this useful\n",
    "\n",
    "Basically with stateful objects. This includes anything that can be set and changed (mutable objects)."
   ]
  },
  {
   "cell_type": "code",
   "execution_count": null,
   "id": "5",
   "metadata": {},
   "outputs": [],
   "source": [
    "with open('tmp.txt', 'w') as textfile:\n",
    "    textfile.write('asdf')"
   ]
  },
  {
   "cell_type": "code",
   "execution_count": null,
   "id": "6",
   "metadata": {
    "tags": [
     "raises-exception"
    ]
   },
   "outputs": [],
   "source": [
    "with open(\"tmp.txt\") as file:\n",
    "    print(file)  # works\n",
    "print(file.readline())  # fails here"
   ]
  },
  {
   "cell_type": "markdown",
   "id": "7",
   "metadata": {},
   "source": [
    "The implementation roughly looks like this:"
   ]
  },
  {
   "cell_type": "code",
   "execution_count": null,
   "id": "8",
   "metadata": {},
   "outputs": [],
   "source": [
    "import contextlib\n",
    "\n",
    "\n",
    "@contextlib.contextmanager\n",
    "def myopen(f, mode):\n",
    "    opened = open(f, mode)\n",
    "    yield opened\n",
    "    opened.close()"
   ]
  },
  {
   "cell_type": "markdown",
   "id": "9",
   "metadata": {},
   "source": [
    "**Exercise**: create a context manager that _temporarily_ sets a `'value'` key to 42 of a dict and switches it back to the old value on exit"
   ]
  },
  {
   "cell_type": "code",
   "execution_count": null,
   "id": "10",
   "metadata": {},
   "outputs": [],
   "source": [
    "testdict = {'value': 11, 'name': 'the answer'}"
   ]
  },
  {
   "cell_type": "markdown",
   "id": "11",
   "metadata": {},
   "source": [
    "to be invoked like this\n",
    "\n",
    "```python\n",
    "with manager(testdict) as obj:\n",
    "    # here the value is 42\n",
    "# here the value is 11\n",
    "```"
   ]
  },
  {
   "cell_type": "code",
   "execution_count": null,
   "id": "12",
   "metadata": {},
   "outputs": [],
   "source": [
    "# SOLUTION\n",
    "@contextlib.contextmanager\n",
    "def func(x):\n",
    "    yield x\n",
    "\n",
    "\n",
    "with func(5) as var1:\n",
    "    print('inside')\n",
    "print(var1)"
   ]
  },
  {
   "cell_type": "code",
   "execution_count": null,
   "id": "13",
   "metadata": {},
   "outputs": [],
   "source": [
    "@contextlib.contextmanager\n",
    "def set_answer(obj):\n",
    "    old_value = obj['value']\n",
    "    obj['value'] = 42\n",
    "    yield obj\n",
    "    obj['value'] = old_value"
   ]
  },
  {
   "cell_type": "markdown",
   "id": "14",
   "metadata": {},
   "source": [
    "## Using a class\n",
    "\n",
    "Instead of using the `yield`, we can have advanced control over the enter and exit methods by creating a class and implementing the two methods `__enter__` and `__exit__`"
   ]
  },
  {
   "cell_type": "code",
   "execution_count": null,
   "id": "15",
   "metadata": {},
   "outputs": [],
   "source": [
    "class MyContext:\n",
    "\n",
    "    def __init__(self, x):\n",
    "        self.x = x\n",
    "\n",
    "    def __enter__(self):\n",
    "        x = self.x\n",
    "        print('entered')\n",
    "        return x ** 2\n",
    "\n",
    "    def __exit__(self, type_, value, traceback):  # but let's not go into things in detail here\n",
    "        self.x = 42\n",
    "        print('exited')"
   ]
  },
  {
   "cell_type": "code",
   "execution_count": null,
   "id": "16",
   "metadata": {},
   "outputs": [],
   "source": [
    "with MyContext(5) as x:\n",
    "    print(x)"
   ]
  },
  {
   "cell_type": "markdown",
   "id": "17",
   "metadata": {},
   "source": [
    "While a class is way more powerful and offers ways to catch exceptions and more in the exit, ususally the functional way is enough and should then be preferred. If it doesn't give you enough flexibility, remember the class, look it up and figure out all the things needed."
   ]
  }
 ],
 "metadata": {
  "kernelspec": {
   "display_name": "Python 3 (ipykernel)",
   "language": "python",
   "name": "python3"
  },
  "language_info": {
   "codemirror_mode": {
    "name": "ipython",
    "version": 3
   },
   "file_extension": ".py",
   "mimetype": "text/x-python",
   "name": "python",
   "nbconvert_exporter": "python",
   "pygments_lexer": "ipython3",
   "version": "3.11.11"
  }
 },
 "nbformat": 4,
 "nbformat_minor": 5
}

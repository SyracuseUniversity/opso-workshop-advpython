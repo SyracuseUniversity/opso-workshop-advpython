{
 "cells": [
  {
   "metadata": {},
   "cell_type": "markdown",
   "source": [
    "# Exercises\n",
    "\n",
    "This notebook can be used to solve the exercises in the session or play around with code."
   ],
   "id": "c386dd38f8d84366"
  },
  {
   "metadata": {},
   "cell_type": "markdown",
   "source": [
    "## Exceptions Exercises\n",
    "\n",
    "Dividing a number by zero... does what? Check it out below\n"
   ],
   "id": "922fa393ca145eba"
  },
  {
   "metadata": {},
   "cell_type": "code",
   "outputs": [],
   "execution_count": null,
   "source": "",
   "id": "6906385e6b9790d2"
  },
  {
   "metadata": {},
   "cell_type": "markdown",
   "source": "",
   "id": "a70a0b93fad9cebb"
  },
  {
   "metadata": {},
   "cell_type": "markdown",
   "source": [
    "### Exercise\n",
    "\n",
    "Catch the error, print it and return 0 instead of crashing the program."
   ],
   "id": "4bd61658576c3b02"
  },
  {
   "metadata": {},
   "cell_type": "code",
   "outputs": [],
   "execution_count": null,
   "source": "",
   "id": "8248eb1e3621182d"
  },
  {
   "metadata": {
    "ExecuteTime": {
     "end_time": "2024-12-12T15:12:57.515889Z",
     "start_time": "2024-12-12T15:12:57.511246Z"
    }
   },
   "cell_type": "code",
   "source": "",
   "id": "e2edc6daafcf6a88",
   "outputs": [],
   "execution_count": 2
  },
  {
   "metadata": {
    "tags": [
     "raises-exception"
    ],
    "ExecuteTime": {
     "end_time": "2024-12-12T15:28:30.427820Z",
     "start_time": "2024-12-12T15:28:30.424900Z"
    }
   },
   "cell_type": "code",
   "source": [
    "def safe_divide(x, y):\n",
    "    return x / y\n"
   ],
   "id": "ad22c718693afd53",
   "outputs": [],
   "execution_count": 6
  },
  {
   "metadata": {
    "ExecuteTime": {
     "end_time": "2024-12-12T15:28:38.955683Z",
     "start_time": "2024-12-12T15:28:38.921245Z"
    }
   },
   "cell_type": "code",
   "source": "safe_divide(1, 0)",
   "id": "2f504f2ee105871c",
   "outputs": [
    {
     "ename": "ZeroDivisionError",
     "evalue": "division by zero",
     "output_type": "error",
     "traceback": [
      "\u001B[0;31m---------------------------------------------------------------------------\u001B[0m",
      "\u001B[0;31mZeroDivisionError\u001B[0m                         Traceback (most recent call last)",
      "Cell \u001B[0;32mIn[7], line 1\u001B[0m\n\u001B[0;32m----> 1\u001B[0m \u001B[43mdivide\u001B[49m\u001B[43m(\u001B[49m\u001B[38;5;241;43m1\u001B[39;49m\u001B[43m,\u001B[49m\u001B[43m \u001B[49m\u001B[38;5;241;43m0\u001B[39;49m\u001B[43m)\u001B[49m\n",
      "Cell \u001B[0;32mIn[6], line 2\u001B[0m, in \u001B[0;36mdivide\u001B[0;34m(x, y)\u001B[0m\n\u001B[1;32m      1\u001B[0m \u001B[38;5;28;01mdef\u001B[39;00m \u001B[38;5;21mdivide\u001B[39m(x, y):\n\u001B[0;32m----> 2\u001B[0m     \u001B[38;5;28;01mreturn\u001B[39;00m \u001B[43mx\u001B[49m\u001B[43m \u001B[49m\u001B[38;5;241;43m/\u001B[39;49m\u001B[43m \u001B[49m\u001B[43my\u001B[49m\n",
      "\u001B[0;31mZeroDivisionError\u001B[0m: division by zero"
     ]
    }
   ],
   "execution_count": 7
  },
  {
   "metadata": {},
   "cell_type": "markdown",
   "source": [
    "## Exercise: opening files\n",
    "\n",
    "_For the following: do NOT implement openings, assignements etc, just print what you would do. Note that this is an artificial example._\n",
    "\n",
    "Write a function `height_squared` without arguments, which will do the following:\n",
    " - create a temporary file with the name `height.txt` and write a number to it.\n",
    " - _open_ the file.\n",
    " - If it works, assign to a variable `height` the content of the file.\n",
    " - If this does not work, just assign a default value of 1e6 to `height`.\n",
    " - Make sure that the file is deleted\n",
    " - Return the height squared\n",
    "\n",
    "_(note: Python has a built-in [`tempfile` module](https://docs.python.org/3/library/tempfile.html) that can be used to create temporary files, if you ever do something for real)_"
   ],
   "id": "b3f2c5c088c6b47c"
  },
  {
   "metadata": {
    "ExecuteTime": {
     "end_time": "2024-12-12T15:48:50.110592Z",
     "start_time": "2024-12-12T15:48:50.106598Z"
    },
    "tags": [
     "raises-exception"
    ]
   },
   "cell_type": "code",
   "source": "",
   "id": "254241a4681fd7b1",
   "outputs": [
    {
     "data": {
      "text/plain": [
       "<module 'numpy' from '/data/software/miniforge3/envs/advanced-python/lib/python3.11/site-packages/numpy/__init__.py'>"
      ]
     },
     "execution_count": 19,
     "metadata": {},
     "output_type": "execute_result"
    }
   ],
   "execution_count": 19
  },
  {
   "metadata": {},
   "cell_type": "markdown",
   "source": [
    "## Function Signatures Exercises\n",
    "\n"
   ],
   "id": "88150a694c0637b"
  },
  {
   "metadata": {},
   "cell_type": "code",
   "outputs": [],
   "execution_count": null,
   "source": "",
   "id": "ebf46adc7fd08e0f"
  },
  {
   "metadata": {},
   "cell_type": "markdown",
   "source": "Find combinations that work and don't work.\n",
   "id": "66e4d049c3afb3be"
  },
  {
   "metadata": {},
   "cell_type": "code",
   "outputs": [],
   "execution_count": null,
   "source": "# play around with it!\n",
   "id": "a14e33100a359e73"
  },
  {
   "metadata": {},
   "cell_type": "code",
   "outputs": [],
   "source": "",
   "id": "9f6bb60e3b2d9afe",
   "execution_count": null
  },
  {
   "metadata": {},
   "cell_type": "markdown",
   "source": "## Decorators Exercises",
   "id": "fd06d88effc242d3"
  },
  {
   "metadata": {},
   "cell_type": "code",
   "outputs": [],
   "execution_count": null,
   "source": [
    "def make_power_func(power):\n",
    "    def func(x):\n",
    "        return x ** power\n",
    "\n",
    "    power = 42\n",
    "    return func"
   ],
   "id": "24324ada44ca5817"
  },
  {
   "metadata": {},
   "cell_type": "code",
   "outputs": [],
   "execution_count": null,
   "source": "pow3 = make_power_func(3)",
   "id": "978b7ba8f3912c5a"
  },
  {
   "metadata": {},
   "cell_type": "code",
   "outputs": [],
   "execution_count": null,
   "source": "pow3(2)",
   "id": "e953d4c1ba9d6fce"
  },
  {
   "metadata": {},
   "cell_type": "code",
   "outputs": [],
   "execution_count": null,
   "source": "# Exercise: test it here",
   "id": "abb5ce5c96ae300c"
  },
  {
   "metadata": {},
   "cell_type": "markdown",
   "source": [
    "Another example is to create a timing wrapper. **Exercise**: create a timing function that can be used as follows\n",
    "\n",
    "```\n",
    "timed_pow3 = fime_func(pow3)\n",
    "pow3(...)\n",
    "```"
   ],
   "id": "74c788672784be62"
  },
  {
   "metadata": {},
   "cell_type": "code",
   "outputs": [],
   "source": "",
   "id": "6860bfafa36ff97a",
   "execution_count": null
  }
 ],
 "metadata": {
  "kernelspec": {
   "display_name": "Python 3",
   "language": "python",
   "name": "python3"
  },
  "language_info": {
   "codemirror_mode": {
    "name": "ipython",
    "version": 2
   },
   "file_extension": ".py",
   "mimetype": "text/x-python",
   "name": "python",
   "nbconvert_exporter": "python",
   "pygments_lexer": "ipython2",
   "version": "2.7.6"
  }
 },
 "nbformat": 4,
 "nbformat_minor": 5
}

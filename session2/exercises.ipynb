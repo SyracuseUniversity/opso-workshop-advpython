{
 "cells": [
  {
   "metadata": {},
   "cell_type": "markdown",
   "source": [
    "# Exercises\n",
    "\n",
    "This notebook can be used to solve the exercises in the session or play around with code."
   ],
   "id": "c386dd38f8d84366"
  },
  {
   "metadata": {},
   "cell_type": "markdown",
   "source": "## Exceptions Exercises\n",
   "id": "922fa393ca145eba"
  },
  {
   "metadata": {
    "ExecuteTime": {
     "end_time": "2024-12-12T15:12:57.515889Z",
     "start_time": "2024-12-12T15:12:57.511246Z"
    }
   },
   "cell_type": "code",
   "source": "import scipy.stats as stats",
   "id": "e2edc6daafcf6a88",
   "outputs": [],
   "execution_count": 2
  },
  {
   "metadata": {
    "ExecuteTime": {
     "end_time": "2024-12-12T15:13:08.643722Z",
     "start_time": "2024-12-12T15:13:08.481062Z"
    },
    "tags": [
     "raises-exception"
    ]
   },
   "cell_type": "code",
   "source": "stats.norm(loc='5', scale=3).rvs(10)  # what happens here?",
   "id": "ad22c718693afd53",
   "outputs": [
    {
     "ename": "UFuncTypeError",
     "evalue": "ufunc 'add' did not contain a loop with signature matching types (dtype('float64'), dtype('<U1')) -> None",
     "output_type": "error",
     "traceback": [
      "\u001B[0;31m---------------------------------------------------------------------------\u001B[0m",
      "\u001B[0;31mUFuncTypeError\u001B[0m                            Traceback (most recent call last)",
      "Cell \u001B[0;32mIn[4], line 1\u001B[0m\n\u001B[0;32m----> 1\u001B[0m \u001B[43mstats\u001B[49m\u001B[38;5;241;43m.\u001B[39;49m\u001B[43mnorm\u001B[49m\u001B[43m(\u001B[49m\u001B[43mloc\u001B[49m\u001B[38;5;241;43m=\u001B[39;49m\u001B[38;5;124;43m'\u001B[39;49m\u001B[38;5;124;43m5\u001B[39;49m\u001B[38;5;124;43m'\u001B[39;49m\u001B[43m,\u001B[49m\u001B[43m \u001B[49m\u001B[43mscale\u001B[49m\u001B[38;5;241;43m=\u001B[39;49m\u001B[38;5;241;43m3\u001B[39;49m\u001B[43m)\u001B[49m\u001B[38;5;241;43m.\u001B[39;49m\u001B[43mrvs\u001B[49m\u001B[43m(\u001B[49m\u001B[38;5;241;43m10\u001B[39;49m\u001B[43m)\u001B[49m\n",
      "File \u001B[0;32m/data/software/miniforge3/envs/advanced-python/lib/python3.11/site-packages/scipy/stats/_distn_infrastructure.py:532\u001B[0m, in \u001B[0;36mrv_frozen.rvs\u001B[0;34m(self, size, random_state)\u001B[0m\n\u001B[1;32m    530\u001B[0m kwds \u001B[38;5;241m=\u001B[39m \u001B[38;5;28mself\u001B[39m\u001B[38;5;241m.\u001B[39mkwds\u001B[38;5;241m.\u001B[39mcopy()\n\u001B[1;32m    531\u001B[0m kwds\u001B[38;5;241m.\u001B[39mupdate({\u001B[38;5;124m'\u001B[39m\u001B[38;5;124msize\u001B[39m\u001B[38;5;124m'\u001B[39m: size, \u001B[38;5;124m'\u001B[39m\u001B[38;5;124mrandom_state\u001B[39m\u001B[38;5;124m'\u001B[39m: random_state})\n\u001B[0;32m--> 532\u001B[0m \u001B[38;5;28;01mreturn\u001B[39;00m \u001B[38;5;28;43mself\u001B[39;49m\u001B[38;5;241;43m.\u001B[39;49m\u001B[43mdist\u001B[49m\u001B[38;5;241;43m.\u001B[39;49m\u001B[43mrvs\u001B[49m\u001B[43m(\u001B[49m\u001B[38;5;241;43m*\u001B[39;49m\u001B[38;5;28;43mself\u001B[39;49m\u001B[38;5;241;43m.\u001B[39;49m\u001B[43margs\u001B[49m\u001B[43m,\u001B[49m\u001B[43m \u001B[49m\u001B[38;5;241;43m*\u001B[39;49m\u001B[38;5;241;43m*\u001B[39;49m\u001B[43mkwds\u001B[49m\u001B[43m)\u001B[49m\n",
      "File \u001B[0;32m/data/software/miniforge3/envs/advanced-python/lib/python3.11/site-packages/scipy/stats/_distn_infrastructure.py:1110\u001B[0m, in \u001B[0;36mrv_generic.rvs\u001B[0;34m(self, *args, **kwds)\u001B[0m\n\u001B[1;32m   1106\u001B[0m     random_state \u001B[38;5;241m=\u001B[39m \u001B[38;5;28mself\u001B[39m\u001B[38;5;241m.\u001B[39m_random_state\n\u001B[1;32m   1108\u001B[0m vals \u001B[38;5;241m=\u001B[39m \u001B[38;5;28mself\u001B[39m\u001B[38;5;241m.\u001B[39m_rvs(\u001B[38;5;241m*\u001B[39margs, size\u001B[38;5;241m=\u001B[39msize, random_state\u001B[38;5;241m=\u001B[39mrandom_state)\n\u001B[0;32m-> 1110\u001B[0m vals \u001B[38;5;241m=\u001B[39m \u001B[43mvals\u001B[49m\u001B[43m \u001B[49m\u001B[38;5;241;43m*\u001B[39;49m\u001B[43m \u001B[49m\u001B[43mscale\u001B[49m\u001B[43m \u001B[49m\u001B[38;5;241;43m+\u001B[39;49m\u001B[43m \u001B[49m\u001B[43mloc\u001B[49m\n\u001B[1;32m   1112\u001B[0m \u001B[38;5;66;03m# do not forget to restore the _random_state\u001B[39;00m\n\u001B[1;32m   1113\u001B[0m \u001B[38;5;28;01mif\u001B[39;00m rndm \u001B[38;5;129;01mis\u001B[39;00m \u001B[38;5;129;01mnot\u001B[39;00m \u001B[38;5;28;01mNone\u001B[39;00m:\n",
      "\u001B[0;31mUFuncTypeError\u001B[0m: ufunc 'add' did not contain a loop with signature matching types (dtype('float64'), dtype('<U1')) -> None"
     ]
    }
   ],
   "execution_count": 4
  },
  {
   "metadata": {},
   "cell_type": "markdown",
   "source": [
    "## Exercise: catch the error and print it\n",
    "\n",
    "UFuncTypeError"
   ],
   "id": "b3f2c5c088c6b47c"
  },
  {
   "metadata": {},
   "cell_type": "markdown",
   "source": "## Decorators Exercises",
   "id": "fd06d88effc242d3"
  },
  {
   "metadata": {},
   "cell_type": "code",
   "outputs": [],
   "execution_count": null,
   "source": [
    "def make_power_func(power):\n",
    "    def func(x):\n",
    "        return x ** power\n",
    "\n",
    "    power = 42\n",
    "    return func"
   ],
   "id": "24324ada44ca5817"
  },
  {
   "metadata": {},
   "cell_type": "code",
   "outputs": [],
   "execution_count": null,
   "source": "pow3 = make_power_func(3)",
   "id": "978b7ba8f3912c5a"
  },
  {
   "metadata": {},
   "cell_type": "code",
   "outputs": [],
   "execution_count": null,
   "source": "pow3(2)",
   "id": "e953d4c1ba9d6fce"
  },
  {
   "metadata": {},
   "cell_type": "code",
   "outputs": [],
   "execution_count": null,
   "source": "# Exercise: test it here",
   "id": "abb5ce5c96ae300c"
  },
  {
   "metadata": {},
   "cell_type": "markdown",
   "source": [
    "Another example is to create a timing wrapper. **Exercise**: create a timing function that can be used as follows\n",
    "\n",
    "```\n",
    "timed_pow3 = fime_func(pow3)\n",
    "pow3(...)\n",
    "```"
   ],
   "id": "74c788672784be62"
  },
  {
   "metadata": {},
   "cell_type": "code",
   "outputs": [],
   "source": "",
   "id": "6860bfafa36ff97a",
   "execution_count": null
  }
 ],
 "metadata": {
  "kernelspec": {
   "display_name": "Python 3",
   "language": "python",
   "name": "python3"
  },
  "language_info": {
   "codemirror_mode": {
    "name": "ipython",
    "version": 2
   },
   "file_extension": ".py",
   "mimetype": "text/x-python",
   "name": "python",
   "nbconvert_exporter": "python",
   "pygments_lexer": "ipython2",
   "version": "2.7.6"
  }
 },
 "nbformat": 4,
 "nbformat_minor": 5
}

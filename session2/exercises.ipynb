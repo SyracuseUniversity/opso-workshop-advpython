{
 "cells": [
  {
   "cell_type": "markdown",
   "id": "c386dd38f8d84366",
   "metadata": {},
   "source": [
    "# Exercises\n",
    "\n",
    "This notebook can be used to solve the exercises in the session or play around with code."
   ]
  },
  {
   "cell_type": "markdown",
   "id": "922fa393ca145eba",
   "metadata": {},
   "source": [
    "## Exceptions Exercises\n",
    "\n",
    "Dividing a number by zero... does what? Check it out below\n"
   ]
  },
  {
   "cell_type": "code",
   "execution_count": 3,
   "id": "6906385e6b9790d2",
   "metadata": {},
   "outputs": [
    {
     "name": "stdout",
     "output_type": "stream",
     "text": [
      "Hello World\n"
     ]
    }
   ],
   "source": [
    "try:\n",
    "    1 / 0\n",
    "except ZeroDivisionError:\n",
    "    print(\"Hello World\")"
   ]
  },
  {
   "cell_type": "markdown",
   "id": "a70a0b93fad9cebb",
   "metadata": {},
   "source": []
  },
  {
   "cell_type": "markdown",
   "id": "4bd61658576c3b02",
   "metadata": {},
   "source": [
    "### Exercise\n",
    "\n",
    "Catch the error, print it and return 0 instead of crashing the program."
   ]
  },
  {
   "cell_type": "code",
   "execution_count": null,
   "id": "8248eb1e3621182d",
   "metadata": {},
   "outputs": [],
   "source": []
  },
  {
   "cell_type": "code",
   "execution_count": null,
   "id": "e2edc6daafcf6a88",
   "metadata": {
    "ExecuteTime": {
     "end_time": "2024-12-12T15:12:57.515889Z",
     "start_time": "2024-12-12T15:12:57.511246Z"
    }
   },
   "outputs": [],
   "source": []
  },
  {
   "cell_type": "code",
   "execution_count": 6,
   "id": "ad22c718693afd53",
   "metadata": {
    "ExecuteTime": {
     "end_time": "2024-12-12T15:28:30.427820Z",
     "start_time": "2024-12-12T15:28:30.424900Z"
    },
    "tags": [
     "raises-exception"
    ]
   },
   "outputs": [],
   "source": [
    "def safe_divide(x, y):\n",
    "    try: \n",
    "        value = x / y\n",
    "    except ZeroDivisionError:\n",
    "        value = 0\n",
    "    return value\n",
    "\n",
    "def safe_divide(x, y):\n",
    "    try: \n",
    "        return x / y\n",
    "    except ZeroDivisionError:\n",
    "        return 0\n"
   ]
  },
  {
   "cell_type": "code",
   "execution_count": 7,
   "id": "2f504f2ee105871c",
   "metadata": {
    "ExecuteTime": {
     "end_time": "2024-12-12T15:28:38.955683Z",
     "start_time": "2024-12-12T15:28:38.921245Z"
    }
   },
   "outputs": [
    {
     "ename": "ZeroDivisionError",
     "evalue": "division by zero",
     "output_type": "error",
     "traceback": [
      "\u001b[0;31m---------------------------------------------------------------------------\u001b[0m",
      "\u001b[0;31mZeroDivisionError\u001b[0m                         Traceback (most recent call last)",
      "Cell \u001b[0;32mIn[7], line 1\u001b[0m\n\u001b[0;32m----> 1\u001b[0m \u001b[43mdivide\u001b[49m\u001b[43m(\u001b[49m\u001b[38;5;241;43m1\u001b[39;49m\u001b[43m,\u001b[49m\u001b[43m \u001b[49m\u001b[38;5;241;43m0\u001b[39;49m\u001b[43m)\u001b[49m\n",
      "Cell \u001b[0;32mIn[6], line 2\u001b[0m, in \u001b[0;36mdivide\u001b[0;34m(x, y)\u001b[0m\n\u001b[1;32m      1\u001b[0m \u001b[38;5;28;01mdef\u001b[39;00m \u001b[38;5;21mdivide\u001b[39m(x, y):\n\u001b[0;32m----> 2\u001b[0m     \u001b[38;5;28;01mreturn\u001b[39;00m \u001b[43mx\u001b[49m\u001b[43m \u001b[49m\u001b[38;5;241;43m/\u001b[39;49m\u001b[43m \u001b[49m\u001b[43my\u001b[49m\n",
      "\u001b[0;31mZeroDivisionError\u001b[0m: division by zero"
     ]
    }
   ],
   "source": [
    "safe_divide(1, 0)"
   ]
  },
  {
   "cell_type": "markdown",
   "id": "b3f2c5c088c6b47c",
   "metadata": {},
   "source": [
    "## Exercise: opening files\n",
    "\n",
    "_For the following: do NOT implement openings, assignements etc, just print what you would do. Note that this is an artificial example._\n",
    "\n",
    "Write a function `height_squared` without arguments, which will do the following:\n",
    " - create a temporary file with the name `height.txt` and write a number to it.\n",
    " - _open_ the file.\n",
    " - If it works, assign to a variable `height` the content of the file.\n",
    " - If this does not work, just assign a default value of 1e6 to `height`.\n",
    " - Make sure that the file is deleted\n",
    " - Return the height squared\n",
    "\n",
    "_(note: Python has a built-in [`tempfile` module](https://docs.python.org/3/library/tempfile.html) that can be used to create temporary files, if you ever do something for real)_"
   ]
  },
  {
   "cell_type": "code",
   "execution_count": 19,
   "id": "254241a4681fd7b1",
   "metadata": {
    "ExecuteTime": {
     "end_time": "2024-12-12T15:48:50.110592Z",
     "start_time": "2024-12-12T15:48:50.106598Z"
    },
    "tags": [
     "raises-exception"
    ]
   },
   "outputs": [
    {
     "data": {
      "text/plain": [
       "<module 'numpy' from '/data/software/miniforge3/envs/advanced-python/lib/python3.11/site-packages/numpy/__init__.py'>"
      ]
     },
     "execution_count": 19,
     "metadata": {},
     "output_type": "execute_result"
    }
   ],
   "source": [
    "def height_squared():\n",
    "    print(\"create file height.txt\")\n",
    "    try:\n",
    "        print(\"open file\")\n",
    "    except FileNotFoundError:\n",
    "        print(\"Assign default value\")\n",
    "    else:\n",
    "        print(\"assign variable from file\")\n",
    "    finally:\n",
    "        print(\"remove file\")\n",
    "    print(\"return value\")\n",
    "    "
   ]
  },
  {
   "cell_type": "code",
   "execution_count": null,
   "id": "998ce480-3468-41e1-b691-83bcb344c601",
   "metadata": {},
   "outputs": [],
   "source": []
  },
  {
   "cell_type": "markdown",
   "id": "88150a694c0637b",
   "metadata": {},
   "source": [
    "## Function Signatures Exercises\n",
    "\n"
   ]
  },
  {
   "cell_type": "code",
   "execution_count": null,
   "id": "ebf46adc7fd08e0f",
   "metadata": {},
   "outputs": [],
   "source": []
  },
  {
   "cell_type": "markdown",
   "id": "66e4d049c3afb3be",
   "metadata": {},
   "source": [
    "Find combinations that work and don't work.\n"
   ]
  },
  {
   "cell_type": "code",
   "execution_count": null,
   "id": "a14e33100a359e73",
   "metadata": {},
   "outputs": [],
   "source": [
    "# play around with it!\n"
   ]
  },
  {
   "cell_type": "code",
   "execution_count": null,
   "id": "9f6bb60e3b2d9afe",
   "metadata": {},
   "outputs": [],
   "source": []
  },
  {
   "cell_type": "markdown",
   "id": "fd06d88effc242d3",
   "metadata": {},
   "source": [
    "## Decorators Exercises"
   ]
  },
  {
   "cell_type": "code",
   "execution_count": null,
   "id": "24324ada44ca5817",
   "metadata": {},
   "outputs": [],
   "source": [
    "def make_power_func(power):\n",
    "    def func(x):\n",
    "        return x ** power\n",
    "\n",
    "    power = 42\n",
    "    return func"
   ]
  },
  {
   "cell_type": "code",
   "execution_count": null,
   "id": "978b7ba8f3912c5a",
   "metadata": {},
   "outputs": [],
   "source": [
    "pow3 = make_power_func(3)"
   ]
  },
  {
   "cell_type": "code",
   "execution_count": null,
   "id": "e953d4c1ba9d6fce",
   "metadata": {},
   "outputs": [],
   "source": [
    "pow3(2)"
   ]
  },
  {
   "cell_type": "code",
   "execution_count": null,
   "id": "abb5ce5c96ae300c",
   "metadata": {},
   "outputs": [],
   "source": [
    "# Exercise: test it here"
   ]
  },
  {
   "cell_type": "markdown",
   "id": "74c788672784be62",
   "metadata": {},
   "source": [
    "Another example is to create a timing wrapper. **Exercise**: create a timing function that can be used as follows\n",
    "\n",
    "```\n",
    "timed_pow3 = fime_func(pow3)\n",
    "pow3(...)\n",
    "```"
   ]
  },
  {
   "cell_type": "code",
   "execution_count": null,
   "id": "6860bfafa36ff97a",
   "metadata": {},
   "outputs": [],
   "source": []
  }
 ],
 "metadata": {
  "kernelspec": {
   "display_name": "Python 3 (ipykernel)",
   "language": "python",
   "name": "python3"
  },
  "language_info": {
   "codemirror_mode": {
    "name": "ipython",
    "version": 3
   },
   "file_extension": ".py",
   "mimetype": "text/x-python",
   "name": "python",
   "nbconvert_exporter": "python",
   "pygments_lexer": "ipython3",
   "version": "3.11.11"
  }
 },
 "nbformat": 4,
 "nbformat_minor": 5
}
